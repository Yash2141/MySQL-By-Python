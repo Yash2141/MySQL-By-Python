{
 "cells": [
  {
   "cell_type": "code",
   "execution_count": 3,
   "id": "7eedc993-a86b-451f-b834-5e2f56dba8cc",
   "metadata": {},
   "outputs": [],
   "source": [
    "import mysql.connector"
   ]
  },
  {
   "cell_type": "code",
   "execution_count": 4,
   "id": "5780b99d-4fab-487d-8de0-8d4a4267115e",
   "metadata": {},
   "outputs": [
    {
     "name": "stdout",
     "output_type": "stream",
     "text": [
      "<mysql.connector.connection_cext.CMySQLConnection object at 0x0000016DBA2A9450>\n"
     ]
    }
   ],
   "source": [
    "mydb = mysql.connector.connect(\n",
    "    host = \"localhost\",\n",
    "    user = \"root\",\n",
    "    passwd = \"123456789\"\n",
    ")\n",
    "\n",
    "print(mydb)"
   ]
  },
  {
   "cell_type": "code",
   "execution_count": 5,
   "id": "70799cd0-3ef4-465a-b6a3-6d39dd074dfd",
   "metadata": {},
   "outputs": [],
   "source": [
    "cursor = mydb.cursor()"
   ]
  },
  {
   "cell_type": "code",
   "execution_count": 8,
   "id": "d7408177-2d05-454c-aa10-4aca0938b75d",
   "metadata": {},
   "outputs": [],
   "source": [
    "cursor.execute(\"show databases\")"
   ]
  },
  {
   "cell_type": "code",
   "execution_count": 9,
   "id": "4ca8ce3a-b4cb-4f0b-99d4-ccdca34bc3c8",
   "metadata": {},
   "outputs": [
    {
     "data": {
      "text/plain": [
       "[('asdf',),\n",
       " ('classicmodels',),\n",
       " ('information_schema',),\n",
       " ('my_work',),\n",
       " ('mydatas',),\n",
       " ('mysql',),\n",
       " ('performance_schema',),\n",
       " ('sakila',),\n",
       " ('sys',),\n",
       " ('testyash',),\n",
       " ('totorial',),\n",
       " ('world',)]"
      ]
     },
     "execution_count": 9,
     "metadata": {},
     "output_type": "execute_result"
    }
   ],
   "source": [
    "cursor.fetchall()"
   ]
  },
  {
   "cell_type": "code",
   "execution_count": 10,
   "id": "9967d442-3a51-4618-a1b3-711caf581980",
   "metadata": {},
   "outputs": [],
   "source": [
    "cursor.execute(\"use testyash\")"
   ]
  },
  {
   "cell_type": "code",
   "execution_count": 11,
   "id": "71d5beb4-aae8-4fed-adc1-100eecdc0c2c",
   "metadata": {},
   "outputs": [],
   "source": [
    "cursor.execute(\"show tables\")"
   ]
  },
  {
   "cell_type": "code",
   "execution_count": 12,
   "id": "23b5b807-d46c-4c0e-bf08-4b33ee91b5a3",
   "metadata": {},
   "outputs": [
    {
     "data": {
      "text/plain": [
       "[('customer_details',),\n",
       " ('employeedetails',),\n",
       " ('employeesalary',),\n",
       " ('glassdata',),\n",
       " ('mytable',),\n",
       " ('newtab',),\n",
       " ('student_info',),\n",
       " ('student_m',),\n",
       " ('tab_1',)]"
      ]
     },
     "execution_count": 12,
     "metadata": {},
     "output_type": "execute_result"
    }
   ],
   "source": [
    "cursor.fetchall()"
   ]
  },
  {
   "cell_type": "code",
   "execution_count": null,
   "id": "74c336fc-cc01-462c-b782-e2ff75a52389",
   "metadata": {},
   "outputs": [],
   "source": [
    "cursor.execute('create table testyash.EmployeeDetails(EmpId INT(10), FullName VARCHAR(20), ManagerId INT(10), DateOfJoining DATE, City VARCHAR(20))')"
   ]
  },
  {
   "cell_type": "code",
   "execution_count": null,
   "id": "69c62c8d-4982-4ca2-b48b-c6462f3169c1",
   "metadata": {},
   "outputs": [],
   "source": [
    "cursor.execute('insert into testyash.EmployeeDetails values(121, \"John Snow\", 321, 1/31/2019,\"Toronto\")')\n",
    "cursor.execute('insert into testyash.EmployeeDetails values(321, \"Walter White\", 986, 1/30/2020,\"California\")')\n",
    "cursor.execute('insert into testyash.EmployeeDetails values(421, \"Kuldeep Rana\", 876, 27/11/2021,\"New Delhi\")')\n"
   ]
  },
  {
   "cell_type": "code",
   "execution_count": 9,
   "id": "6588841f-4ccd-4efd-8067-308d88f53148",
   "metadata": {},
   "outputs": [],
   "source": [
    "mydb.commit()"
   ]
  },
  {
   "cell_type": "code",
   "execution_count": 10,
   "id": "a0934963-6365-4f8e-aced-e3d70eaae43a",
   "metadata": {},
   "outputs": [],
   "source": [
    "cursor.execute(\" select * from testyash.EmployeeDetails\")"
   ]
  },
  {
   "cell_type": "code",
   "execution_count": 11,
   "id": "6736f9dc-35f0-4aa8-903c-41c72c6cda75",
   "metadata": {},
   "outputs": [
    {
     "data": {
      "text/plain": [
       "[(121, 'John Snow', 321, None, 'Toronto'),\n",
       " (121, 'John Snow', 321, None, 'Toronto'),\n",
       " (321, 'Walter White', 986, None, 'California'),\n",
       " (421, 'Kuldeep Rana', 876, None, 'New Delhi'),\n",
       " (121, 'John Snow', 321, None, 'Toronto'),\n",
       " (321, 'Walter White', 986, None, 'California'),\n",
       " (421, 'Kuldeep Rana', 876, None, 'New Delhi')]"
      ]
     },
     "execution_count": 11,
     "metadata": {},
     "output_type": "execute_result"
    }
   ],
   "source": [
    "cursor.fetchall()"
   ]
  },
  {
   "cell_type": "code",
   "execution_count": 13,
   "id": "056a5786-fbc5-4323-8df3-70886f60d78e",
   "metadata": {},
   "outputs": [],
   "source": [
    "cursor.execute('create table testyash.EmployeeSalary(EmpId INT(10), Project VARCHAR(20), Salary INT(20), Variable INT(20))')"
   ]
  },
  {
   "cell_type": "code",
   "execution_count": null,
   "id": "3585dd0e-8007-4885-9279-6d33a08e622a",
   "metadata": {},
   "outputs": [],
   "source": [
    "cursor.execute('insert into testyash.EmployeeSalary values(121, \"p1\", 8000, 500)')\n",
    "cursor.execute('insert into testyash.EmployeeSalary values(321, \"p2\", 10000, 1000)')\n",
    "cursor.execute('insert into testyash.EmployeeSalary values(421, \"p3\", 12000, 0)')\n"
   ]
  },
  {
   "cell_type": "code",
   "execution_count": 14,
   "id": "818764dc-ab44-4ff6-8add-2f642ac94e2c",
   "metadata": {},
   "outputs": [],
   "source": [
    "mydb.commit()"
   ]
  },
  {
   "cell_type": "code",
   "execution_count": 15,
   "id": "ef3c32f1-3b42-44ce-8114-5bef8a8d641a",
   "metadata": {},
   "outputs": [],
   "source": [
    "cursor.execute(\" select * from testyash.EmployeeDetails\")"
   ]
  },
  {
   "cell_type": "code",
   "execution_count": 16,
   "id": "c31750cf-6b1f-4661-8e61-547f8425c03a",
   "metadata": {},
   "outputs": [
    {
     "data": {
      "text/plain": [
       "[(121, 'John Snow', 321, None, 'Toronto'),\n",
       " (121, 'John Snow', 321, None, 'Toronto'),\n",
       " (321, 'Walter White', 986, None, 'California'),\n",
       " (421, 'Kuldeep Rana', 876, None, 'New Delhi'),\n",
       " (121, 'John Snow', 321, None, 'Toronto'),\n",
       " (321, 'Walter White', 986, None, 'California'),\n",
       " (421, 'Kuldeep Rana', 876, None, 'New Delhi')]"
      ]
     },
     "execution_count": 16,
     "metadata": {},
     "output_type": "execute_result"
    }
   ],
   "source": [
    "cursor.fetchall()"
   ]
  },
  {
   "cell_type": "code",
   "execution_count": 17,
   "id": "8ee856c6-ae84-4989-8683-9b96c4ff773a",
   "metadata": {},
   "outputs": [],
   "source": [
    "cursor.execute(\" select * from testyash.EmployeeSalary\")"
   ]
  },
  {
   "cell_type": "code",
   "execution_count": 18,
   "id": "c2193c7b-5ae5-40d9-8685-856ed0884653",
   "metadata": {},
   "outputs": [
    {
     "data": {
      "text/plain": [
       "[(121, 'p1', 8000, 500), (321, 'p2', 10000, 1000), (421, 'p3', 12000, 0)]"
      ]
     },
     "execution_count": 18,
     "metadata": {},
     "output_type": "execute_result"
    }
   ],
   "source": [
    "cursor.fetchall()"
   ]
  },
  {
   "cell_type": "code",
   "execution_count": null,
   "id": "388ab962-6142-4105-a62d-f9c8e312319a",
   "metadata": {},
   "outputs": [],
   "source": []
  },
  {
   "cell_type": "markdown",
   "id": "c4414b06-9190-410a-ab34-8542c4f95dc9",
   "metadata": {},
   "source": [
    "### 1. Write an SQL query to fetch the EmpId and FullName of all the employees working under the Manager with id – ‘986’."
   ]
  },
  {
   "cell_type": "code",
   "execution_count": 16,
   "id": "eb165067-0f64-4bfb-996c-8543750d4366",
   "metadata": {},
   "outputs": [],
   "source": [
    "cursor.execute(\"select EmpId, FullName from EmployeeDetails where ManagerId = 986\")"
   ]
  },
  {
   "cell_type": "code",
   "execution_count": 17,
   "id": "426d3f85-ee17-4d1e-97d5-368f962e660f",
   "metadata": {},
   "outputs": [
    {
     "data": {
      "text/plain": [
       "[(321, 'Walter White'), (321, 'Walter White')]"
      ]
     },
     "execution_count": 17,
     "metadata": {},
     "output_type": "execute_result"
    }
   ],
   "source": [
    "cursor.fetchall()"
   ]
  },
  {
   "cell_type": "markdown",
   "id": "59b068a1-9cf1-4531-9210-e8bf5503b6ce",
   "metadata": {},
   "source": [
    "### 2. Write an SQL query to fetch the different projects available from the EmployeeSalary table."
   ]
  },
  {
   "cell_type": "code",
   "execution_count": 9,
   "id": "035f1e48-aeb1-4559-a71a-1ad9657febde",
   "metadata": {},
   "outputs": [],
   "source": [
    "cursor.execute(\"SELECT DISTINCT(Project) FROM EmployeeSalary\")"
   ]
  },
  {
   "cell_type": "code",
   "execution_count": 10,
   "id": "3ec64b6a-b9f4-4d1d-af12-8655067c5dcc",
   "metadata": {},
   "outputs": [
    {
     "data": {
      "text/plain": [
       "[('p1',), ('p2',), ('p3',)]"
      ]
     },
     "execution_count": 10,
     "metadata": {},
     "output_type": "execute_result"
    }
   ],
   "source": [
    "cursor.fetchall()"
   ]
  },
  {
   "cell_type": "markdown",
   "id": "5f37f1fe-0099-42a7-af6c-9aaf7c739617",
   "metadata": {},
   "source": [
    "### 3. Write an SQL query to fetch the count of employees working in project ‘P1’.\n"
   ]
  },
  {
   "cell_type": "code",
   "execution_count": 11,
   "id": "d9a80af6-eaf3-458c-bf75-16ef5fa12eb4",
   "metadata": {},
   "outputs": [],
   "source": [
    "cursor.execute(\"Select count(*) from EmployeeSalary where Project = 'p1'\")"
   ]
  },
  {
   "cell_type": "code",
   "execution_count": 12,
   "id": "d8c560fc-dfc5-4d36-8eab-5b31eb63f072",
   "metadata": {},
   "outputs": [
    {
     "data": {
      "text/plain": [
       "[(1,)]"
      ]
     },
     "execution_count": 12,
     "metadata": {},
     "output_type": "execute_result"
    }
   ],
   "source": [
    "cursor.fetchall()"
   ]
  },
  {
   "cell_type": "markdown",
   "id": "347f7ddf-e278-4540-b367-01df43becced",
   "metadata": {},
   "source": [
    "### 4. Write an SQL query to find the maximum, minimum, and average salary of the employees.\n"
   ]
  },
  {
   "cell_type": "code",
   "execution_count": 25,
   "id": "5a50065f-a1e8-43ef-970c-ca986bcf084f",
   "metadata": {},
   "outputs": [],
   "source": [
    "cursor.execute(\"select max(Salary), min(Salary), avg(Salary) from EmployeeSalary\")"
   ]
  },
  {
   "cell_type": "code",
   "execution_count": 26,
   "id": "89989c42-9ea5-47c1-a199-87e18ba05ab0",
   "metadata": {},
   "outputs": [
    {
     "data": {
      "text/plain": [
       "[(12000, 8000, Decimal('10000.0000'))]"
      ]
     },
     "execution_count": 26,
     "metadata": {},
     "output_type": "execute_result"
    }
   ],
   "source": [
    "cursor.fetchall()"
   ]
  },
  {
   "cell_type": "markdown",
   "id": "badc0a89-8e79-4016-909c-f29042fa865e",
   "metadata": {},
   "source": [
    "### 5. Write an SQL query to find the employee id whose salary lies in the range of 9000 and 15000."
   ]
  },
  {
   "cell_type": "code",
   "execution_count": 27,
   "id": "edf4c6b5-9dc4-4147-8472-8b9bfb5accdb",
   "metadata": {},
   "outputs": [],
   "source": [
    "cursor.execute(\"SELECT EmpId, Salary FROM EmployeeSalary WHERE Salary BETWEEN 9000 AND 15000\")"
   ]
  },
  {
   "cell_type": "code",
   "execution_count": 28,
   "id": "21ab1e59-4d2f-476c-9828-53eccff0b7d9",
   "metadata": {},
   "outputs": [
    {
     "data": {
      "text/plain": [
       "[(321, 10000), (421, 12000)]"
      ]
     },
     "execution_count": 28,
     "metadata": {},
     "output_type": "execute_result"
    }
   ],
   "source": [
    "cursor.fetchall()"
   ]
  },
  {
   "cell_type": "markdown",
   "id": "910b8c73-e051-4bf0-bf27-8081d8e63039",
   "metadata": {},
   "source": [
    "### 6. Write an SQL query to fetch those employees who live in Toronto and work under the manager with ManagerId – 321."
   ]
  },
  {
   "cell_type": "code",
   "execution_count": 29,
   "id": "2cae8186-a888-483f-81c5-a608b69e795a",
   "metadata": {},
   "outputs": [],
   "source": [
    "cursor.execute(\"select EmpId, City, ManagerId from EmployeeDetails where city = 'Toronto' and ManagerId = 321 \")"
   ]
  },
  {
   "cell_type": "code",
   "execution_count": 30,
   "id": "2c8ad56c-0c03-4fcb-8bf8-3eb2e1b6b0e6",
   "metadata": {},
   "outputs": [
    {
     "data": {
      "text/plain": [
       "[(121, 'Toronto', 321), (121, 'Toronto', 321), (121, 'Toronto', 321)]"
      ]
     },
     "execution_count": 30,
     "metadata": {},
     "output_type": "execute_result"
    }
   ],
   "source": [
    "cursor.fetchall()"
   ]
  },
  {
   "cell_type": "markdown",
   "id": "cf354432-e50f-4c5b-841a-c5d9fdfb1812",
   "metadata": {},
   "source": [
    "### 7. Write an SQL query to fetch all the employees who either live in California or work under a manager with ManagerId – 321.\n"
   ]
  },
  {
   "cell_type": "code",
   "execution_count": 31,
   "id": "40e28b54-9b8d-4e95-9c5c-17ff464eeacc",
   "metadata": {},
   "outputs": [],
   "source": [
    "cursor.execute(\"select EmpId, City, ManagerId from EmployeeDetails where city = 'California' or ManagerId = 321 \")"
   ]
  },
  {
   "cell_type": "code",
   "execution_count": 32,
   "id": "78018cf9-a8c0-44e6-a7e2-5468a8865885",
   "metadata": {},
   "outputs": [
    {
     "data": {
      "text/plain": [
       "[(121, 'Toronto', 321),\n",
       " (121, 'Toronto', 321),\n",
       " (321, 'California', 986),\n",
       " (121, 'Toronto', 321),\n",
       " (321, 'California', 986)]"
      ]
     },
     "execution_count": 32,
     "metadata": {},
     "output_type": "execute_result"
    }
   ],
   "source": [
    "cursor.fetchall()\n"
   ]
  },
  {
   "cell_type": "markdown",
   "id": "09a43fdd-35ab-4fda-b056-982948b52cba",
   "metadata": {},
   "source": [
    "### 8. Write an SQL query to fetch all those employees who work on Projects other than P1.\n"
   ]
  },
  {
   "cell_type": "code",
   "execution_count": 33,
   "id": "ebcf20df-f7d3-4f08-bc92-421b049929d4",
   "metadata": {},
   "outputs": [],
   "source": [
    "cursor.execute(\"select EmpId FROM EmployeeSalary where not Project = 'p1' \")"
   ]
  },
  {
   "cell_type": "code",
   "execution_count": 34,
   "id": "7f7be5fa-3b21-4608-adbc-d85a98d22704",
   "metadata": {},
   "outputs": [
    {
     "data": {
      "text/plain": [
       "[(321,), (421,)]"
      ]
     },
     "execution_count": 34,
     "metadata": {},
     "output_type": "execute_result"
    }
   ],
   "source": [
    "cursor.fetchall()"
   ]
  },
  {
   "cell_type": "markdown",
   "id": "315c73f5-f252-455d-ac21-41b50d0e2bcf",
   "metadata": {},
   "source": [
    "### 9. Write an SQL query to display the total salary of each employee adding the Salary with Variable value.\n"
   ]
  },
  {
   "cell_type": "code",
   "execution_count": 35,
   "id": "d878a155-6961-4b74-8ffe-c3ffb4a66e7c",
   "metadata": {},
   "outputs": [],
   "source": [
    "cursor.execute(\"SELECT EmpId, Salary+Variable as TotalSalary FROM EmployeeSalary\")\n",
    " "
   ]
  },
  {
   "cell_type": "code",
   "execution_count": 36,
   "id": "99a9418e-1c07-48ff-a0f6-27ad46030466",
   "metadata": {},
   "outputs": [
    {
     "data": {
      "text/plain": [
       "[(121, 8500), (321, 11000), (421, 12000)]"
      ]
     },
     "execution_count": 36,
     "metadata": {},
     "output_type": "execute_result"
    }
   ],
   "source": [
    "cursor.fetchall()"
   ]
  },
  {
   "cell_type": "markdown",
   "id": "cd0b95a3-b8a0-4fc4-896f-5384ecef59de",
   "metadata": {},
   "source": [
    "### 10. Write an SQL query to fetch the employees whose name begins with any two characters, followed by a text “hn” and ends with any sequence of characters."
   ]
  },
  {
   "cell_type": "code",
   "execution_count": 37,
   "id": "d2f1c175-e6db-41d2-88e3-900d768218f2",
   "metadata": {},
   "outputs": [],
   "source": [
    "cursor.execute(\"select EmpId, fullName from EmployeeDetails where fullName like '__hn%' \")"
   ]
  },
  {
   "cell_type": "code",
   "execution_count": 38,
   "id": "d930f4db-c0c8-42b4-9045-670175b0c193",
   "metadata": {},
   "outputs": [
    {
     "data": {
      "text/plain": [
       "[(121, 'John Snow'), (121, 'John Snow'), (121, 'John Snow')]"
      ]
     },
     "execution_count": 38,
     "metadata": {},
     "output_type": "execute_result"
    }
   ],
   "source": [
    "cursor.fetchall()"
   ]
  },
  {
   "cell_type": "markdown",
   "id": "03747c26-5569-41ae-b3c0-cba62598b05a",
   "metadata": {},
   "source": [
    "### 11. Write an SQL query to fetch all the EmpIds which are present in either of the tables – ‘EmployeeDetails’ and ‘EmployeeSalary’.\n"
   ]
  },
  {
   "cell_type": "code",
   "execution_count": 39,
   "id": "2fe89cff-ace0-4e81-aecf-134bbb27d081",
   "metadata": {},
   "outputs": [],
   "source": [
    "cursor.execute(\"SELECT EmpId FROM EmployeeDetails UNION  SELECT EmpId FROM EmployeeSalary\")"
   ]
  },
  {
   "cell_type": "code",
   "execution_count": 40,
   "id": "0bee406e-2c45-4f8d-94d1-c69caf525571",
   "metadata": {},
   "outputs": [
    {
     "data": {
      "text/plain": [
       "[(121,), (321,), (421,)]"
      ]
     },
     "execution_count": 40,
     "metadata": {},
     "output_type": "execute_result"
    }
   ],
   "source": [
    "cursor.fetchall()"
   ]
  },
  {
   "cell_type": "markdown",
   "id": "074c3647-99ff-412a-a512-e255fb2cc7a6",
   "metadata": {},
   "source": [
    "### 12. Write an SQL query to fetch common records between two tables.\n"
   ]
  },
  {
   "cell_type": "code",
   "execution_count": 41,
   "id": "e937478e-83d2-4d9c-850b-80f8433b8e32",
   "metadata": {},
   "outputs": [],
   "source": [
    " cursor.execute(\"SELECT * FROM EmployeeSalary WHERE EmpId IN (SELECT EmpId from EmployeeDetails)\")"
   ]
  },
  {
   "cell_type": "code",
   "execution_count": 42,
   "id": "f20d6608-380b-4d08-9853-1f857e94d3ef",
   "metadata": {},
   "outputs": [
    {
     "data": {
      "text/plain": [
       "[(121, 'p1', 8000, 500), (321, 'p2', 10000, 1000), (421, 'p3', 12000, 0)]"
      ]
     },
     "execution_count": 42,
     "metadata": {},
     "output_type": "execute_result"
    }
   ],
   "source": [
    "cursor.fetchall()"
   ]
  },
  {
   "cell_type": "code",
   "execution_count": 43,
   "id": "db4e9f98-598b-490d-bd83-2c0d097c8bab",
   "metadata": {},
   "outputs": [],
   "source": [
    "cursor.execute(\"SELECT * FROM EmployeeSalary INNER JOIN EmployeeDetails ON EmployeeSalary.Empid = EmployeeDetails.Empid\");\n"
   ]
  },
  {
   "cell_type": "code",
   "execution_count": 44,
   "id": "0e9fd111-7f85-418e-8e20-13b05a5399b5",
   "metadata": {},
   "outputs": [
    {
     "data": {
      "text/plain": [
       "[(121, 'p1', 8000, 500, 121, 'John Snow', 321, None, 'Toronto'),\n",
       " (121, 'p1', 8000, 500, 121, 'John Snow', 321, None, 'Toronto'),\n",
       " (321, 'p2', 10000, 1000, 321, 'Walter White', 986, None, 'California'),\n",
       " (421, 'p3', 12000, 0, 421, 'Kuldeep Rana', 876, None, 'New Delhi'),\n",
       " (121, 'p1', 8000, 500, 121, 'John Snow', 321, None, 'Toronto'),\n",
       " (321, 'p2', 10000, 1000, 321, 'Walter White', 986, None, 'California'),\n",
       " (421, 'p3', 12000, 0, 421, 'Kuldeep Rana', 876, None, 'New Delhi')]"
      ]
     },
     "execution_count": 44,
     "metadata": {},
     "output_type": "execute_result"
    }
   ],
   "source": [
    "cursor.fetchall()"
   ]
  },
  {
   "cell_type": "markdown",
   "id": "0cdb2a30-d890-408e-9e35-27ad18af0fa0",
   "metadata": {},
   "source": [
    "### 13. Write an SQL query to fetch records that are present in one table but not in another table.\n",
    "\n"
   ]
  },
  {
   "cell_type": "code",
   "execution_count": 45,
   "id": "b50bfdd6-20cd-4539-9af3-f182b03e933b",
   "metadata": {},
   "outputs": [],
   "source": [
    "cursor.execute(\"SELECT * from EmployeeDetails where Empid not in (select Empid from Employeesalary)\")"
   ]
  },
  {
   "cell_type": "code",
   "execution_count": 46,
   "id": "8a01cd39-ef31-491b-9836-e43cef71f06c",
   "metadata": {},
   "outputs": [
    {
     "data": {
      "text/plain": [
       "[]"
      ]
     },
     "execution_count": 46,
     "metadata": {},
     "output_type": "execute_result"
    }
   ],
   "source": [
    "cursor.fetchall()"
   ]
  },
  {
   "cell_type": "code",
   "execution_count": 47,
   "id": "8db4c5b3-0325-490f-84aa-81e4081c40fe",
   "metadata": {},
   "outputs": [],
   "source": [
    "cursor.execute(\"SELECT * FROM EmployeeDetails LEFT JOIN Employeesalary ON EmployeeDetails.Empid = Employeesalary.Empid WHERE Employeesalary.Empid IS NULL\")\n"
   ]
  },
  {
   "cell_type": "code",
   "execution_count": 48,
   "id": "50c20a2e-23f6-4a5d-b69c-593ff7ae0615",
   "metadata": {},
   "outputs": [
    {
     "data": {
      "text/plain": [
       "[]"
      ]
     },
     "execution_count": 48,
     "metadata": {},
     "output_type": "execute_result"
    }
   ],
   "source": [
    "cursor.fetchall()"
   ]
  },
  {
   "cell_type": "markdown",
   "id": "a56e27a3-d890-491b-811d-e44fc37f897e",
   "metadata": {},
   "source": [
    "### 14. Write an SQL query to fetch the EmpIds that are present in both the tables –  ‘EmployeeDetails’ and ‘EmployeeSalary.\n"
   ]
  },
  {
   "cell_type": "code",
   "execution_count": 49,
   "id": "80ad5de2-ca0e-472a-8a4c-e8a656ce8d4f",
   "metadata": {},
   "outputs": [],
   "source": [
    "cursor.execute(\"select * from EmployeeDetails where Empid in (select Empid from Employeesalary)\")"
   ]
  },
  {
   "cell_type": "code",
   "execution_count": 50,
   "id": "d0dde4ff-e686-454e-9bdb-9da2eb3acbba",
   "metadata": {},
   "outputs": [
    {
     "data": {
      "text/plain": [
       "[(121, 'John Snow', 321, None, 'Toronto'),\n",
       " (121, 'John Snow', 321, None, 'Toronto'),\n",
       " (321, 'Walter White', 986, None, 'California'),\n",
       " (421, 'Kuldeep Rana', 876, None, 'New Delhi'),\n",
       " (121, 'John Snow', 321, None, 'Toronto'),\n",
       " (321, 'Walter White', 986, None, 'California'),\n",
       " (421, 'Kuldeep Rana', 876, None, 'New Delhi')]"
      ]
     },
     "execution_count": 50,
     "metadata": {},
     "output_type": "execute_result"
    }
   ],
   "source": [
    "cursor.fetchall()"
   ]
  },
  {
   "cell_type": "markdown",
   "id": "00521939-26d8-45f3-b8a9-957b2feac1bc",
   "metadata": {},
   "source": [
    "### 15. Write an SQL query to fetch the EmpIds that are present in EmployeeDetails but not in EmployeeSalary.\n"
   ]
  },
  {
   "cell_type": "code",
   "execution_count": 51,
   "id": "5a138091-c556-4aa6-93cf-96615a944fc6",
   "metadata": {},
   "outputs": [],
   "source": [
    "cursor.execute(\"select Empid from EmployeeDetails where Empid not in ( select Empid from Employeesalary)\")"
   ]
  },
  {
   "cell_type": "code",
   "execution_count": 52,
   "id": "6f4bf608-fce0-4ba2-bb63-49aea6a1d4f1",
   "metadata": {},
   "outputs": [
    {
     "data": {
      "text/plain": [
       "[]"
      ]
     },
     "execution_count": 52,
     "metadata": {},
     "output_type": "execute_result"
    }
   ],
   "source": [
    "cursor.fetchall()"
   ]
  },
  {
   "cell_type": "markdown",
   "id": "c6f786bb-91bd-4692-bcae-ca068dbb80c5",
   "metadata": {},
   "source": [
    "### 16.Write an SQL query to display both the EmpId and ManagerId together.\r\n",
    "\n"
   ]
  },
  {
   "cell_type": "code",
   "execution_count": 53,
   "id": "00b85e60-c584-422f-9c71-54752b05f8c4",
   "metadata": {},
   "outputs": [],
   "source": [
    "cursor.execute(\"select Empid, Managerid from EmployeeDetails\")"
   ]
  },
  {
   "cell_type": "code",
   "execution_count": 54,
   "id": "a05d8f30-4817-4686-9152-4202d7b9fd93",
   "metadata": {},
   "outputs": [
    {
     "data": {
      "text/plain": [
       "[(121, 321),\n",
       " (121, 321),\n",
       " (321, 986),\n",
       " (421, 876),\n",
       " (121, 321),\n",
       " (321, 986),\n",
       " (421, 876)]"
      ]
     },
     "execution_count": 54,
     "metadata": {},
     "output_type": "execute_result"
    }
   ],
   "source": [
    "cursor.fetchall()"
   ]
  },
  {
   "cell_type": "code",
   "execution_count": 55,
   "id": "7b16374d-bf52-4c9d-b0cb-7f40ea88854e",
   "metadata": {},
   "outputs": [],
   "source": [
    "cursor.execute(\"select Concat(Empid,'-', Managerid) as Emp_Manag from EmployeeDetails\")"
   ]
  },
  {
   "cell_type": "code",
   "execution_count": 56,
   "id": "36d2a0da-cc4e-4297-a45c-38a2ac543455",
   "metadata": {},
   "outputs": [
    {
     "data": {
      "text/plain": [
       "[('121-321',),\n",
       " ('121-321',),\n",
       " ('321-986',),\n",
       " ('421-876',),\n",
       " ('121-321',),\n",
       " ('321-986',),\n",
       " ('421-876',)]"
      ]
     },
     "execution_count": 56,
     "metadata": {},
     "output_type": "execute_result"
    }
   ],
   "source": [
    "cursor.fetchall()"
   ]
  },
  {
   "cell_type": "markdown",
   "id": "b14bd95e-fa0d-49c7-ac43-67bf3caef4be",
   "metadata": {},
   "source": [
    "### Write an SQL query to display both the EmpId and ManagerId together both in different table\n",
    "\n"
   ]
  },
  {
   "cell_type": "code",
   "execution_count": 63,
   "id": "7824af2c-ed57-4a3d-aff3-c1994ded7d4b",
   "metadata": {},
   "outputs": [],
   "source": [
    "cursor.execute(\"SELECT E.Empid, M.Managerid FROM EmployeeDetails E INNER JOIN EmployeeDetails M ON E.Empid = M.Managerid\")\n"
   ]
  },
  {
   "cell_type": "code",
   "execution_count": 64,
   "id": "6106d5ae-a3c9-44fa-ae5d-49c1fee625cd",
   "metadata": {},
   "outputs": [
    {
     "data": {
      "text/plain": [
       "[(321, 321), (321, 321), (321, 321), (321, 321), (321, 321), (321, 321)]"
      ]
     },
     "execution_count": 64,
     "metadata": {},
     "output_type": "execute_result"
    }
   ],
   "source": [
    "cursor.fetchall()"
   ]
  },
  {
   "cell_type": "markdown",
   "id": "7c4e0c0b-93a7-4f42-a542-29ab8d26b59a",
   "metadata": {},
   "source": [
    "### 17. Write a query to fetch only the first name(string before space) from the FullName column of the EmployeeDetails table.1\n"
   ]
  },
  {
   "cell_type": "code",
   "execution_count": 65,
   "id": "868fbaa2-184c-4f75-8666-0dd54c64a4c4",
   "metadata": {},
   "outputs": [],
   "source": [
    "cursor.execute(\"SELECT SUBSTRING_INDEX(FullName, ' ',1) AS FirstName FROM EmployeeDetails\")\n"
   ]
  },
  {
   "cell_type": "code",
   "execution_count": 66,
   "id": "e6fab6ab-2a4f-4dda-a941-885b7a635ef4",
   "metadata": {},
   "outputs": [
    {
     "data": {
      "text/plain": [
       "[('John',),\n",
       " ('John',),\n",
       " ('Walter',),\n",
       " ('Kuldeep',),\n",
       " ('John',),\n",
       " ('Walter',),\n",
       " ('Kuldeep',)]"
      ]
     },
     "execution_count": 66,
     "metadata": {},
     "output_type": "execute_result"
    }
   ],
   "source": [
    "cursor.fetchall()"
   ]
  },
  {
   "cell_type": "markdown",
   "id": "409f6dcc-00ab-4705-bb30-a8aa00283795",
   "metadata": {},
   "source": [
    "### 18.Write an SQL query to uppercase the name of the employee and lowercase the city values."
   ]
  },
  {
   "cell_type": "code",
   "execution_count": 67,
   "id": "2aa918f2-6a51-495c-a4ab-091a88625739",
   "metadata": {},
   "outputs": [],
   "source": [
    "cursor.execute(\"SELECT Upper(FullName), Lower(city) from EmployeeDetails\")"
   ]
  },
  {
   "cell_type": "code",
   "execution_count": 68,
   "id": "70ad4d6c-fe97-4ee3-8a5b-6393abf6fc93",
   "metadata": {},
   "outputs": [
    {
     "data": {
      "text/plain": [
       "[('JOHN SNOW', 'toronto'),\n",
       " ('JOHN SNOW', 'toronto'),\n",
       " ('WALTER WHITE', 'california'),\n",
       " ('KULDEEP RANA', 'new delhi'),\n",
       " ('JOHN SNOW', 'toronto'),\n",
       " ('WALTER WHITE', 'california'),\n",
       " ('KULDEEP RANA', 'new delhi')]"
      ]
     },
     "execution_count": 68,
     "metadata": {},
     "output_type": "execute_result"
    }
   ],
   "source": [
    "cursor.fetchall()"
   ]
  },
  {
   "cell_type": "markdown",
   "id": "f0e3243a-8103-4ff0-b35d-f6c9c7aac413",
   "metadata": {},
   "source": [
    "### 19. Write an SQL query to find the count of the total occurrences of a particular character – ‘n’ in the FullName field.\n"
   ]
  },
  {
   "cell_type": "code",
   "execution_count": 69,
   "id": "4baac9b3-59b2-4970-a05b-758080eb9d13",
   "metadata": {},
   "outputs": [],
   "source": [
    "cursor.execute(\"SELECT Fullname, (Length(Fullname) - Length(replace(Fullname, 'n',' '))) as no_of_word from EmployeeDetails\")"
   ]
  },
  {
   "cell_type": "code",
   "execution_count": 70,
   "id": "c23863ea-cfa1-4c13-adfa-9ca55f890613",
   "metadata": {},
   "outputs": [
    {
     "data": {
      "text/plain": [
       "[('John Snow', 0),\n",
       " ('John Snow', 0),\n",
       " ('Walter White', 0),\n",
       " ('Kuldeep Rana', 0),\n",
       " ('John Snow', 0),\n",
       " ('Walter White', 0),\n",
       " ('Kuldeep Rana', 0)]"
      ]
     },
     "execution_count": 70,
     "metadata": {},
     "output_type": "execute_result"
    }
   ],
   "source": [
    "cursor.fetchall()"
   ]
  },
  {
   "cell_type": "markdown",
   "id": "c773454a-efab-4728-a13c-126261fed7b2",
   "metadata": {},
   "source": [
    "### 20. Fetch all the employees who are not working on any project.\n"
   ]
  },
  {
   "cell_type": "code",
   "execution_count": 71,
   "id": "5e2e9e00-f405-4104-a060-75daaa17c9fd",
   "metadata": {},
   "outputs": [],
   "source": [
    "cursor.execute(\"SELECT Empid from EmployeeSalary where project is Null\")"
   ]
  },
  {
   "cell_type": "code",
   "execution_count": 72,
   "id": "a48a6a56-7df2-4c35-a41d-62028a2edabb",
   "metadata": {},
   "outputs": [
    {
     "data": {
      "text/plain": [
       "[]"
      ]
     },
     "execution_count": 72,
     "metadata": {},
     "output_type": "execute_result"
    }
   ],
   "source": [
    "cursor.fetchall()"
   ]
  },
  {
   "cell_type": "markdown",
   "id": "ec1beb13-ee66-4e85-8d51-d1923972ea38",
   "metadata": {},
   "source": [
    "### 21. Write an SQL query to fetch employee names having a salary greater than or equal to 5000 and less than or equal to 10000.\n"
   ]
  },
  {
   "cell_type": "code",
   "execution_count": 73,
   "id": "9ee6798f-b99b-4ce4-ae6f-20d054bf4090",
   "metadata": {},
   "outputs": [],
   "source": [
    "cursor.execute(\"SELECT FullName FROM EmployeeDetails WHERE EmpId IN (SELECT EmpId FROM EmployeeSalary WHERE Salary BETWEEN 5000 AND 10000)\")"
   ]
  },
  {
   "cell_type": "code",
   "execution_count": 74,
   "id": "63879494-c3f9-4521-89d1-07491bac1ed1",
   "metadata": {},
   "outputs": [
    {
     "data": {
      "text/plain": [
       "[('John Snow',),\n",
       " ('John Snow',),\n",
       " ('Walter White',),\n",
       " ('John Snow',),\n",
       " ('Walter White',)]"
      ]
     },
     "execution_count": 74,
     "metadata": {},
     "output_type": "execute_result"
    }
   ],
   "source": [
    "cursor.fetchall()"
   ]
  },
  {
   "cell_type": "code",
   "execution_count": 75,
   "id": "6fc1f5ee-906b-496b-aebb-2de9a3c6b736",
   "metadata": {},
   "outputs": [],
   "source": [
    "cursor.execute(\"SELECT e.FullName,s.Salary FROM EmployeeDetails e INNER JOIN EmployeeSalary s ON e.EmpId = s.EmpId WHERE Salary >= 5000 AND Salary <= 10000\")"
   ]
  },
  {
   "cell_type": "code",
   "execution_count": 76,
   "id": "e0c8c6ef-3842-4220-abb7-62c9b0ccccb8",
   "metadata": {},
   "outputs": [
    {
     "data": {
      "text/plain": [
       "[('John Snow', 8000),\n",
       " ('John Snow', 8000),\n",
       " ('Walter White', 10000),\n",
       " ('John Snow', 8000),\n",
       " ('Walter White', 10000)]"
      ]
     },
     "execution_count": 76,
     "metadata": {},
     "output_type": "execute_result"
    }
   ],
   "source": [
    "cursor.fetchall()\n"
   ]
  },
  {
   "cell_type": "markdown",
   "id": "76ac80bb-46dc-4f1b-b137-9148930705ea",
   "metadata": {},
   "source": [
    "### 22.Write an SQL query to find the current date-time."
   ]
  },
  {
   "cell_type": "code",
   "execution_count": 77,
   "id": "24a51c8a-f9ee-4adf-9180-18d76d69d4bc",
   "metadata": {},
   "outputs": [],
   "source": [
    "cursor.execute(\"SELECT NOW()\")\n"
   ]
  },
  {
   "cell_type": "code",
   "execution_count": 78,
   "id": "1494c471-d44c-4728-992a-91b4bcc973d5",
   "metadata": {},
   "outputs": [
    {
     "data": {
      "text/plain": [
       "[(datetime.datetime(2023, 10, 6, 15, 24, 55),)]"
      ]
     },
     "execution_count": 78,
     "metadata": {},
     "output_type": "execute_result"
    }
   ],
   "source": [
    "cursor.fetchall()"
   ]
  },
  {
   "cell_type": "markdown",
   "id": "cd1e53b8-3b0e-4bcd-8a24-7f7e345bcf06",
   "metadata": {},
   "source": [
    "### 23.Write an SQL query to fetch all the Employee details from the EmployeeDetails table who joined in the Year 2020"
   ]
  },
  {
   "cell_type": "code",
   "execution_count": 79,
   "id": "f178ea50-695e-4973-8a9f-e8ae41635eaf",
   "metadata": {},
   "outputs": [],
   "source": [
    "cursor.execute(\"SELECT * FROM EmployeeDetails WHERE YEAR(DateOfJoining) = '2020'\")"
   ]
  },
  {
   "cell_type": "code",
   "execution_count": 80,
   "id": "0e69337f-efdd-4cae-b873-d87305b14953",
   "metadata": {},
   "outputs": [
    {
     "data": {
      "text/plain": [
       "[]"
      ]
     },
     "execution_count": 80,
     "metadata": {},
     "output_type": "execute_result"
    }
   ],
   "source": [
    "cursor.fetchall()"
   ]
  },
  {
   "cell_type": "code",
   "execution_count": 81,
   "id": "8d0334aa-09cc-459c-aab0-1ab37e002818",
   "metadata": {},
   "outputs": [],
   "source": [
    "cursor.execute(\"SELECT * From EmployeeDetails WHERE DateofJoining between '2020/01/01' AND '2020/12/31'\")"
   ]
  },
  {
   "cell_type": "code",
   "execution_count": 82,
   "id": "a6a283d2-2f74-4f3a-8a41-747f610d0cfe",
   "metadata": {},
   "outputs": [
    {
     "data": {
      "text/plain": [
       "[]"
      ]
     },
     "execution_count": 82,
     "metadata": {},
     "output_type": "execute_result"
    }
   ],
   "source": [
    "cursor.fetchall()"
   ]
  },
  {
   "cell_type": "markdown",
   "id": "7a722ba7-9d33-48ab-983c-9e23d0ce61c0",
   "metadata": {},
   "source": [
    "### 24.Write an SQL query to fetch all employee records from the EmployeeDetails table who have a salary record in the EmployeeSalary table"
   ]
  },
  {
   "cell_type": "code",
   "execution_count": 83,
   "id": "cc819a72-278b-4031-bdc2-56250c90087a",
   "metadata": {},
   "outputs": [],
   "source": [
    "cursor.execute(\"SELECT * from EmployeeDetails as E INNER Join EmployeeSalary as S ON E.Empid = S.Empid\")"
   ]
  },
  {
   "cell_type": "code",
   "execution_count": 84,
   "id": "6a83b60f-d2ef-4004-96ca-da873b1fc49a",
   "metadata": {},
   "outputs": [
    {
     "data": {
      "text/plain": [
       "[(121, 'John Snow', 321, None, 'Toronto', 121, 'p1', 8000, 500),\n",
       " (121, 'John Snow', 321, None, 'Toronto', 121, 'p1', 8000, 500),\n",
       " (321, 'Walter White', 986, None, 'California', 321, 'p2', 10000, 1000),\n",
       " (421, 'Kuldeep Rana', 876, None, 'New Delhi', 421, 'p3', 12000, 0),\n",
       " (121, 'John Snow', 321, None, 'Toronto', 121, 'p1', 8000, 500),\n",
       " (321, 'Walter White', 986, None, 'California', 321, 'p2', 10000, 1000),\n",
       " (421, 'Kuldeep Rana', 876, None, 'New Delhi', 421, 'p3', 12000, 0)]"
      ]
     },
     "execution_count": 84,
     "metadata": {},
     "output_type": "execute_result"
    }
   ],
   "source": [
    "cursor.fetchall()"
   ]
  },
  {
   "cell_type": "markdown",
   "id": "2302faf8-a373-4018-b0d8-65f59b7a9331",
   "metadata": {},
   "source": [
    "### 25. Write an SQL query to fetch the project-wise count of employees sorted by project’s count in descending order."
   ]
  },
  {
   "cell_type": "code",
   "execution_count": 85,
   "id": "4b4256ed-861d-4c14-a1e2-0f571cd10630",
   "metadata": {},
   "outputs": [],
   "source": [
    "cursor.execute(\"SELECT project, count(Empid) as Empcount from EmployeeSalary Group BY project Order BY Empcount Desc\")"
   ]
  },
  {
   "cell_type": "code",
   "execution_count": 86,
   "id": "fd23b982-14c9-4966-b0db-95a802e8894f",
   "metadata": {},
   "outputs": [
    {
     "data": {
      "text/plain": [
       "[('p1', 1), ('p2', 1), ('p3', 1)]"
      ]
     },
     "execution_count": 86,
     "metadata": {},
     "output_type": "execute_result"
    }
   ],
   "source": [
    "cursor.fetchall()"
   ]
  },
  {
   "cell_type": "markdown",
   "id": "274c0b7f-7e04-45f1-a4e2-55c5df621ca0",
   "metadata": {},
   "source": [
    "### 26.Write a query to fetch employee names and salary records. Display the employee details even if the salary record is not present for the employee."
   ]
  },
  {
   "cell_type": "code",
   "execution_count": 87,
   "id": "53322a02-4ee4-41c5-8b18-87183e231c47",
   "metadata": {},
   "outputs": [],
   "source": [
    "cursor.execute(\"SELECT E.FullName, S.Salary FROM EmployeeDetails E LEFT JOIN EmployeeSalary S ON E.EmpId = S.EmpId\")"
   ]
  },
  {
   "cell_type": "code",
   "execution_count": 88,
   "id": "5fee70a5-4105-42b6-9201-accbb2b074ba",
   "metadata": {},
   "outputs": [
    {
     "data": {
      "text/plain": [
       "[('John Snow', 8000),\n",
       " ('John Snow', 8000),\n",
       " ('Walter White', 10000),\n",
       " ('Kuldeep Rana', 12000),\n",
       " ('John Snow', 8000),\n",
       " ('Walter White', 10000),\n",
       " ('Kuldeep Rana', 12000)]"
      ]
     },
     "execution_count": 88,
     "metadata": {},
     "output_type": "execute_result"
    }
   ],
   "source": [
    "cursor.fetchall()\n"
   ]
  },
  {
   "cell_type": "code",
   "execution_count": 89,
   "id": "dd42c38d-37d0-4522-96cd-69965905eade",
   "metadata": {},
   "outputs": [],
   "source": [
    "cursor.execute(\"SELECT E.FullName, IFNULL(S.Salary, 'No salary record') AS Salary FROM EmployeeDetails E LEFT JOIN EmployeeSalary S ON E.EmpId = S.EmpId\")\n"
   ]
  },
  {
   "cell_type": "code",
   "execution_count": 90,
   "id": "61071215-bf71-41ff-a00b-1f084f2a150a",
   "metadata": {},
   "outputs": [
    {
     "data": {
      "text/plain": [
       "[('John Snow', '8000'),\n",
       " ('John Snow', '8000'),\n",
       " ('Walter White', '10000'),\n",
       " ('Kuldeep Rana', '12000'),\n",
       " ('John Snow', '8000'),\n",
       " ('Walter White', '10000'),\n",
       " ('Kuldeep Rana', '12000')]"
      ]
     },
     "execution_count": 90,
     "metadata": {},
     "output_type": "execute_result"
    }
   ],
   "source": [
    "cursor.fetchall()"
   ]
  },
  {
   "cell_type": "markdown",
   "id": "aa525c70-5bb9-41b7-a7fb-71e8f9e4e07b",
   "metadata": {},
   "source": [
    "### 27. Write an SQL query to fetch all the Employees who are also managers from the EmployeeDetails table."
   ]
  },
  {
   "cell_type": "code",
   "execution_count": 91,
   "id": "34f13883-65a5-4c83-ba18-c78c40fb4b4a",
   "metadata": {},
   "outputs": [],
   "source": [
    "cursor.execute(\"Select Distinct (E.FullName), M.Managerid from EmployeeDetails as E Inner Join EmployeeDetails M ON E.Empid = M.Managerid\")"
   ]
  },
  {
   "cell_type": "code",
   "execution_count": 92,
   "id": "ac9c3e9e-536f-4290-a7c9-b692c294b9cb",
   "metadata": {},
   "outputs": [
    {
     "data": {
      "text/plain": [
       "[('Walter White', 321)]"
      ]
     },
     "execution_count": 92,
     "metadata": {},
     "output_type": "execute_result"
    }
   ],
   "source": [
    "cursor.fetchall()"
   ]
  },
  {
   "cell_type": "markdown",
   "id": "6e9476e1-7889-46fb-8368-bb9fed185b85",
   "metadata": {},
   "source": [
    "### 28.Write an SQL query to fetch duplicate records from EmployeeDetails (without considering the primary key – EmpId)."
   ]
  },
  {
   "cell_type": "code",
   "execution_count": 93,
   "id": "1ad67aee-468b-4239-8f4d-d097db2625d1",
   "metadata": {},
   "outputs": [],
   "source": [
    "cursor.execute(\"Select FullName, ManagerId, DateOfJoining, City, Count(*) from EmployeeDetails Group By FullName, ManagerId, DateOfJoining, City having Count(*) > 1\")"
   ]
  },
  {
   "cell_type": "code",
   "execution_count": 94,
   "id": "4c106cf3-437b-46a4-b0d9-1cc99e2639e7",
   "metadata": {},
   "outputs": [
    {
     "data": {
      "text/plain": [
       "[('John Snow', 321, None, 'Toronto', 3),\n",
       " ('Walter White', 986, None, 'California', 2),\n",
       " ('Kuldeep Rana', 876, None, 'New Delhi', 2)]"
      ]
     },
     "execution_count": 94,
     "metadata": {},
     "output_type": "execute_result"
    }
   ],
   "source": [
    "cursor.fetchall()"
   ]
  },
  {
   "cell_type": "code",
   "execution_count": 95,
   "id": "896bf702-89ec-4be1-868c-044a8fb3d7a0",
   "metadata": {},
   "outputs": [],
   "source": [
    "cursor.execute(\"Select FullName, count(FullName) as Duplicate_count from EmployeeDetails Group By FullName Having Count(FullName) >1\")"
   ]
  },
  {
   "cell_type": "code",
   "execution_count": 96,
   "id": "fb1376b1-3539-42a5-a21b-8035f68c8839",
   "metadata": {},
   "outputs": [
    {
     "data": {
      "text/plain": [
       "[('John Snow', 3), ('Walter White', 2), ('Kuldeep Rana', 2)]"
      ]
     },
     "execution_count": 96,
     "metadata": {},
     "output_type": "execute_result"
    }
   ],
   "source": [
    "cursor.fetchall()"
   ]
  },
  {
   "cell_type": "code",
   "execution_count": 97,
   "id": "b48d9149-e3fd-48ea-8545-d1d9313ef0c9",
   "metadata": {},
   "outputs": [],
   "source": [
    "cursor.execute(\"Select * from EmployeeDetails Where FullName IN(Select FullName from EmployeeDetails Group By FullName Having Count(FullName) >1)\")"
   ]
  },
  {
   "cell_type": "code",
   "execution_count": 98,
   "id": "315d13b3-1609-4ea2-95a5-980d75b9dbda",
   "metadata": {},
   "outputs": [
    {
     "data": {
      "text/plain": [
       "[(121, 'John Snow', 321, None, 'Toronto'),\n",
       " (121, 'John Snow', 321, None, 'Toronto'),\n",
       " (321, 'Walter White', 986, None, 'California'),\n",
       " (421, 'Kuldeep Rana', 876, None, 'New Delhi'),\n",
       " (121, 'John Snow', 321, None, 'Toronto'),\n",
       " (321, 'Walter White', 986, None, 'California'),\n",
       " (421, 'Kuldeep Rana', 876, None, 'New Delhi')]"
      ]
     },
     "execution_count": 98,
     "metadata": {},
     "output_type": "execute_result"
    }
   ],
   "source": [
    "cursor.fetchall()"
   ]
  },
  {
   "cell_type": "markdown",
   "id": "488c85c9-b07c-45b1-9c56-643416f5224e",
   "metadata": {},
   "source": [
    "### Write an SQL query to remove duplicates from  EmployeeDetails table "
   ]
  },
  {
   "cell_type": "code",
   "execution_count": 99,
   "id": "8e870e71-e2f9-460d-928d-ff04012423b8",
   "metadata": {},
   "outputs": [
    {
     "ename": "SyntaxError",
     "evalue": "unterminated string literal (detected at line 1) (3348261467.py, line 1)",
     "output_type": "error",
     "traceback": [
      "\u001b[1;36m  Cell \u001b[1;32mIn[99], line 1\u001b[1;36m\u001b[0m\n\u001b[1;33m    cursor.execute(\"DELETE FROM EmployeeDetails\u001b[0m\n\u001b[1;37m                   ^\u001b[0m\n\u001b[1;31mSyntaxError\u001b[0m\u001b[1;31m:\u001b[0m unterminated string literal (detected at line 1)\n"
     ]
    }
   ],
   "source": [
    "cursor.execute(\"DELETE FROM EmployeeDetails\n",
    "WHERE EmpId NOT IN (\n",
    "SELECT MIN(EmpId)\n",
    "FROM EmployeeDetails\n",
    "GROUP BY EmployeeName\n",
    "HAVING COUNT(*) > 1\")"
   ]
  },
  {
   "cell_type": "code",
   "execution_count": null,
   "id": "2570363e-9393-475b-af16-305a608532bd",
   "metadata": {},
   "outputs": [],
   "source": []
  },
  {
   "cell_type": "markdown",
   "id": "b48bb4f3-af46-436c-b99b-899c1ef0b47d",
   "metadata": {},
   "source": [
    "### 29.Write an SQL query to remove duplicates from a table without using a temporary table."
   ]
  },
  {
   "cell_type": "code",
   "execution_count": 100,
   "id": "c487d79b-cb82-4a3e-bcdf-ecc82a4c57e7",
   "metadata": {},
   "outputs": [
    {
     "ename": "SyntaxError",
     "evalue": "unterminated string literal (detected at line 1) (1892176415.py, line 1)",
     "output_type": "error",
     "traceback": [
      "\u001b[1;36m  Cell \u001b[1;32mIn[100], line 1\u001b[1;36m\u001b[0m\n\u001b[1;33m    cursor.execute(\"Delete E1 from EmployeeDetails E1 INNER JOIN EmployeeDetails E2 ON E1.FullName = E2.FullName\u001b[0m\n\u001b[1;37m                   ^\u001b[0m\n\u001b[1;31mSyntaxError\u001b[0m\u001b[1;31m:\u001b[0m unterminated string literal (detected at line 1)\n"
     ]
    }
   ],
   "source": [
    "cursor.execute(\"Delete E1 from EmployeeDetails E1 INNER JOIN EmployeeDetails E2 ON E1.FullName = E2.FullName \n",
    "AND E1.ManagerId = E2.ManagerId\n",
    "AND E1.DateOfJoining = E2.DateOfJoining\n",
    "AND E1.City = E2.City Where E1.Empid > E2.empid\")\n"
   ]
  },
  {
   "cell_type": "code",
   "execution_count": 101,
   "id": "078cb973-36dc-4b11-8db8-686eaf62d09e",
   "metadata": {},
   "outputs": [
    {
     "data": {
      "text/plain": [
       "[]"
      ]
     },
     "execution_count": 101,
     "metadata": {},
     "output_type": "execute_result"
    }
   ],
   "source": [
    "cursor.fetchall()"
   ]
  },
  {
   "cell_type": "markdown",
   "id": "809474cd-87be-42d8-9f73-7f4730002d47",
   "metadata": {},
   "source": [
    "### Write an SQL query to remove duplicates from a table using a temporary table"
   ]
  },
  {
   "cell_type": "code",
   "execution_count": 102,
   "id": "83853c49-372c-44d3-9fe9-ee2008d64b54",
   "metadata": {},
   "outputs": [
    {
     "ename": "NameError",
     "evalue": "name 'Cursor' is not defined",
     "output_type": "error",
     "traceback": [
      "\u001b[1;31m---------------------------------------------------------------------------\u001b[0m",
      "\u001b[1;31mNameError\u001b[0m                                 Traceback (most recent call last)",
      "Cell \u001b[1;32mIn[102], line 1\u001b[0m\n\u001b[1;32m----> 1\u001b[0m \u001b[43mCursor\u001b[49m\u001b[38;5;241m.\u001b[39mexecute(\u001b[38;5;124m\"\u001b[39m\u001b[38;5;124mCREATE TABLE TempTable AS SELECT DISTINCT * FROM YourTableName\u001b[39m\u001b[38;5;124m\"\u001b[39m)\n",
      "\u001b[1;31mNameError\u001b[0m: name 'Cursor' is not defined"
     ]
    }
   ],
   "source": [
    "Cursor.execute(\"CREATE TABLE TempTable AS SELECT DISTINCT * FROM YourTableName\")"
   ]
  },
  {
   "cell_type": "code",
   "execution_count": 103,
   "id": "9c3b4a15-f855-47e9-ab54-f6a3d83d8491",
   "metadata": {},
   "outputs": [
    {
     "ename": "ProgrammingError",
     "evalue": "1146 (42S02): Table 'testyash.temptable' doesn't exist",
     "output_type": "error",
     "traceback": [
      "\u001b[1;31m---------------------------------------------------------------------------\u001b[0m",
      "\u001b[1;31mMySQLInterfaceError\u001b[0m                       Traceback (most recent call last)",
      "File \u001b[1;32m~\\AppData\\Local\\Programs\\Python\\Python311\\Lib\\site-packages\\mysql\\connector\\connection_cext.py:633\u001b[0m, in \u001b[0;36mCMySQLConnection.cmd_query\u001b[1;34m(self, query, raw, buffered, raw_as_string)\u001b[0m\n\u001b[0;32m    632\u001b[0m         query \u001b[38;5;241m=\u001b[39m query\u001b[38;5;241m.\u001b[39mencode(\u001b[38;5;124m\"\u001b[39m\u001b[38;5;124mutf-8\u001b[39m\u001b[38;5;124m\"\u001b[39m)\n\u001b[1;32m--> 633\u001b[0m     \u001b[38;5;28;43mself\u001b[39;49m\u001b[38;5;241;43m.\u001b[39;49m\u001b[43m_cmysql\u001b[49m\u001b[38;5;241;43m.\u001b[39;49m\u001b[43mquery\u001b[49m\u001b[43m(\u001b[49m\n\u001b[0;32m    634\u001b[0m \u001b[43m        \u001b[49m\u001b[43mquery\u001b[49m\u001b[43m,\u001b[49m\n\u001b[0;32m    635\u001b[0m \u001b[43m        \u001b[49m\u001b[43mraw\u001b[49m\u001b[38;5;241;43m=\u001b[39;49m\u001b[43mraw\u001b[49m\u001b[43m,\u001b[49m\n\u001b[0;32m    636\u001b[0m \u001b[43m        \u001b[49m\u001b[43mbuffered\u001b[49m\u001b[38;5;241;43m=\u001b[39;49m\u001b[43mbuffered\u001b[49m\u001b[43m,\u001b[49m\n\u001b[0;32m    637\u001b[0m \u001b[43m        \u001b[49m\u001b[43mraw_as_string\u001b[49m\u001b[38;5;241;43m=\u001b[39;49m\u001b[43mraw_as_string\u001b[49m\u001b[43m,\u001b[49m\n\u001b[0;32m    638\u001b[0m \u001b[43m        \u001b[49m\u001b[43mquery_attrs\u001b[49m\u001b[38;5;241;43m=\u001b[39;49m\u001b[38;5;28;43mself\u001b[39;49m\u001b[38;5;241;43m.\u001b[39;49m\u001b[43mquery_attrs\u001b[49m\u001b[43m,\u001b[49m\n\u001b[0;32m    639\u001b[0m \u001b[43m    \u001b[49m\u001b[43m)\u001b[49m\n\u001b[0;32m    640\u001b[0m \u001b[38;5;28;01mexcept\u001b[39;00m MySQLInterfaceError \u001b[38;5;28;01mas\u001b[39;00m err:\n",
      "\u001b[1;31mMySQLInterfaceError\u001b[0m: Table 'testyash.temptable' doesn't exist",
      "\nThe above exception was the direct cause of the following exception:\n",
      "\u001b[1;31mProgrammingError\u001b[0m                          Traceback (most recent call last)",
      "Cell \u001b[1;32mIn[103], line 1\u001b[0m\n\u001b[1;32m----> 1\u001b[0m \u001b[43mcursor\u001b[49m\u001b[38;5;241;43m.\u001b[39;49m\u001b[43mexecute\u001b[49m\u001b[43m(\u001b[49m\u001b[38;5;124;43m\"\u001b[39;49m\u001b[38;5;124;43mALTER TABLE TempTable RENAME TO YourTableName\u001b[39;49m\u001b[38;5;124;43m\"\u001b[39;49m\u001b[43m)\u001b[49m\n",
      "File \u001b[1;32m~\\AppData\\Local\\Programs\\Python\\Python311\\Lib\\site-packages\\mysql\\connector\\cursor_cext.py:330\u001b[0m, in \u001b[0;36mCMySQLCursor.execute\u001b[1;34m(self, operation, params, multi)\u001b[0m\n\u001b[0;32m    325\u001b[0m             \u001b[38;5;28;01mraise\u001b[39;00m ProgrammingError(\n\u001b[0;32m    326\u001b[0m                 \u001b[38;5;124m\"\u001b[39m\u001b[38;5;124mNot all parameters were used in the SQL statement\u001b[39m\u001b[38;5;124m\"\u001b[39m\n\u001b[0;32m    327\u001b[0m             )\n\u001b[0;32m    329\u001b[0m \u001b[38;5;28;01mtry\u001b[39;00m:\n\u001b[1;32m--> 330\u001b[0m     result \u001b[38;5;241m=\u001b[39m \u001b[38;5;28;43mself\u001b[39;49m\u001b[38;5;241;43m.\u001b[39;49m\u001b[43m_cnx\u001b[49m\u001b[38;5;241;43m.\u001b[39;49m\u001b[43mcmd_query\u001b[49m\u001b[43m(\u001b[49m\n\u001b[0;32m    331\u001b[0m \u001b[43m        \u001b[49m\u001b[43mstmt\u001b[49m\u001b[43m,\u001b[49m\n\u001b[0;32m    332\u001b[0m \u001b[43m        \u001b[49m\u001b[43mraw\u001b[49m\u001b[38;5;241;43m=\u001b[39;49m\u001b[38;5;28;43mself\u001b[39;49m\u001b[38;5;241;43m.\u001b[39;49m\u001b[43m_raw\u001b[49m\u001b[43m,\u001b[49m\n\u001b[0;32m    333\u001b[0m \u001b[43m        \u001b[49m\u001b[43mbuffered\u001b[49m\u001b[38;5;241;43m=\u001b[39;49m\u001b[38;5;28;43mself\u001b[39;49m\u001b[38;5;241;43m.\u001b[39;49m\u001b[43m_buffered\u001b[49m\u001b[43m,\u001b[49m\n\u001b[0;32m    334\u001b[0m \u001b[43m        \u001b[49m\u001b[43mraw_as_string\u001b[49m\u001b[38;5;241;43m=\u001b[39;49m\u001b[38;5;28;43mself\u001b[39;49m\u001b[38;5;241;43m.\u001b[39;49m\u001b[43m_raw_as_string\u001b[49m\u001b[43m,\u001b[49m\n\u001b[0;32m    335\u001b[0m \u001b[43m    \u001b[49m\u001b[43m)\u001b[49m\n\u001b[0;32m    336\u001b[0m \u001b[38;5;28;01mexcept\u001b[39;00m MySQLInterfaceError \u001b[38;5;28;01mas\u001b[39;00m err:\n\u001b[0;32m    337\u001b[0m     \u001b[38;5;28;01mraise\u001b[39;00m get_mysql_exception(\n\u001b[0;32m    338\u001b[0m         msg\u001b[38;5;241m=\u001b[39merr\u001b[38;5;241m.\u001b[39mmsg, errno\u001b[38;5;241m=\u001b[39merr\u001b[38;5;241m.\u001b[39merrno, sqlstate\u001b[38;5;241m=\u001b[39merr\u001b[38;5;241m.\u001b[39msqlstate\n\u001b[0;32m    339\u001b[0m     ) \u001b[38;5;28;01mfrom\u001b[39;00m \u001b[38;5;21;01merr\u001b[39;00m\n",
      "File \u001b[1;32m~\\AppData\\Local\\Programs\\Python\\Python311\\Lib\\site-packages\\mysql\\connector\\opentelemetry\\context_propagation.py:77\u001b[0m, in \u001b[0;36mwith_context_propagation.<locals>.wrapper\u001b[1;34m(cnx, *args, **kwargs)\u001b[0m\n\u001b[0;32m     75\u001b[0m \u001b[38;5;250m\u001b[39m\u001b[38;5;124;03m\"\"\"Context propagation decorator.\"\"\"\u001b[39;00m\n\u001b[0;32m     76\u001b[0m \u001b[38;5;28;01mif\u001b[39;00m \u001b[38;5;129;01mnot\u001b[39;00m OTEL_ENABLED \u001b[38;5;129;01mor\u001b[39;00m \u001b[38;5;129;01mnot\u001b[39;00m cnx\u001b[38;5;241m.\u001b[39motel_context_propagation:\n\u001b[1;32m---> 77\u001b[0m     \u001b[38;5;28;01mreturn\u001b[39;00m \u001b[43mmethod\u001b[49m\u001b[43m(\u001b[49m\u001b[43mcnx\u001b[49m\u001b[43m,\u001b[49m\u001b[43m \u001b[49m\u001b[38;5;241;43m*\u001b[39;49m\u001b[43margs\u001b[49m\u001b[43m,\u001b[49m\u001b[43m \u001b[49m\u001b[38;5;241;43m*\u001b[39;49m\u001b[38;5;241;43m*\u001b[39;49m\u001b[43mkwargs\u001b[49m\u001b[43m)\u001b[49m\n\u001b[0;32m     79\u001b[0m current_span \u001b[38;5;241m=\u001b[39m trace\u001b[38;5;241m.\u001b[39mget_current_span()\n\u001b[0;32m     80\u001b[0m tp_header \u001b[38;5;241m=\u001b[39m \u001b[38;5;28;01mNone\u001b[39;00m\n",
      "File \u001b[1;32m~\\AppData\\Local\\Programs\\Python\\Python311\\Lib\\site-packages\\mysql\\connector\\connection_cext.py:641\u001b[0m, in \u001b[0;36mCMySQLConnection.cmd_query\u001b[1;34m(self, query, raw, buffered, raw_as_string)\u001b[0m\n\u001b[0;32m    633\u001b[0m     \u001b[38;5;28mself\u001b[39m\u001b[38;5;241m.\u001b[39m_cmysql\u001b[38;5;241m.\u001b[39mquery(\n\u001b[0;32m    634\u001b[0m         query,\n\u001b[0;32m    635\u001b[0m         raw\u001b[38;5;241m=\u001b[39mraw,\n\u001b[1;32m   (...)\u001b[0m\n\u001b[0;32m    638\u001b[0m         query_attrs\u001b[38;5;241m=\u001b[39m\u001b[38;5;28mself\u001b[39m\u001b[38;5;241m.\u001b[39mquery_attrs,\n\u001b[0;32m    639\u001b[0m     )\n\u001b[0;32m    640\u001b[0m \u001b[38;5;28;01mexcept\u001b[39;00m MySQLInterfaceError \u001b[38;5;28;01mas\u001b[39;00m err:\n\u001b[1;32m--> 641\u001b[0m     \u001b[38;5;28;01mraise\u001b[39;00m get_mysql_exception(\n\u001b[0;32m    642\u001b[0m         err\u001b[38;5;241m.\u001b[39merrno, msg\u001b[38;5;241m=\u001b[39merr\u001b[38;5;241m.\u001b[39mmsg, sqlstate\u001b[38;5;241m=\u001b[39merr\u001b[38;5;241m.\u001b[39msqlstate\n\u001b[0;32m    643\u001b[0m     ) \u001b[38;5;28;01mfrom\u001b[39;00m \u001b[38;5;21;01merr\u001b[39;00m\n\u001b[0;32m    644\u001b[0m \u001b[38;5;28;01mexcept\u001b[39;00m \u001b[38;5;167;01mAttributeError\u001b[39;00m \u001b[38;5;28;01mas\u001b[39;00m err:\n\u001b[0;32m    645\u001b[0m     addr \u001b[38;5;241m=\u001b[39m (\n\u001b[0;32m    646\u001b[0m         \u001b[38;5;28mself\u001b[39m\u001b[38;5;241m.\u001b[39m_unix_socket \u001b[38;5;28;01mif\u001b[39;00m \u001b[38;5;28mself\u001b[39m\u001b[38;5;241m.\u001b[39m_unix_socket \u001b[38;5;28;01melse\u001b[39;00m \u001b[38;5;124mf\u001b[39m\u001b[38;5;124m\"\u001b[39m\u001b[38;5;132;01m{\u001b[39;00m\u001b[38;5;28mself\u001b[39m\u001b[38;5;241m.\u001b[39m_host\u001b[38;5;132;01m}\u001b[39;00m\u001b[38;5;124m:\u001b[39m\u001b[38;5;132;01m{\u001b[39;00m\u001b[38;5;28mself\u001b[39m\u001b[38;5;241m.\u001b[39m_port\u001b[38;5;132;01m}\u001b[39;00m\u001b[38;5;124m\"\u001b[39m\n\u001b[0;32m    647\u001b[0m     )\n",
      "\u001b[1;31mProgrammingError\u001b[0m: 1146 (42S02): Table 'testyash.temptable' doesn't exist"
     ]
    }
   ],
   "source": [
    "cursor.execute(\"ALTER TABLE TempTable RENAME TO YourTableName\")\n"
   ]
  },
  {
   "cell_type": "markdown",
   "id": "2e278326-b271-46ca-8e37-f55fd185b84b",
   "metadata": {},
   "source": [
    "### 30.Write an SQL query to fetch only odd rows from the table."
   ]
  },
  {
   "cell_type": "code",
   "execution_count": 104,
   "id": "8b04f0d0-04b8-43e8-a588-b4388a5a8932",
   "metadata": {},
   "outputs": [],
   "source": [
    "cursor.execute(\"SELECT * FROM EmployeeDetails WHERE MOD (EmpId, 2) <> 0\")"
   ]
  },
  {
   "cell_type": "code",
   "execution_count": 105,
   "id": "3a4328b3-9a0d-43e8-9757-2e6d0a3d963c",
   "metadata": {},
   "outputs": [
    {
     "data": {
      "text/plain": [
       "[(121, 'John Snow', 321, None, 'Toronto'),\n",
       " (121, 'John Snow', 321, None, 'Toronto'),\n",
       " (321, 'Walter White', 986, None, 'California'),\n",
       " (421, 'Kuldeep Rana', 876, None, 'New Delhi'),\n",
       " (121, 'John Snow', 321, None, 'Toronto'),\n",
       " (321, 'Walter White', 986, None, 'California'),\n",
       " (421, 'Kuldeep Rana', 876, None, 'New Delhi')]"
      ]
     },
     "execution_count": 105,
     "metadata": {},
     "output_type": "execute_result"
    }
   ],
   "source": [
    "cursor.fetchall()"
   ]
  },
  {
   "cell_type": "code",
   "execution_count": 106,
   "id": "cf2db1e8-4ec6-4a89-9da3-7c3cebacff87",
   "metadata": {},
   "outputs": [],
   "source": [
    "cursor.execute(\"SELECT * FROM EmployeeDetails WHERE EmpId % 2 = 1\")"
   ]
  },
  {
   "cell_type": "code",
   "execution_count": 107,
   "id": "edcffeb5-6947-476b-934f-3ad4709f2f95",
   "metadata": {},
   "outputs": [
    {
     "data": {
      "text/plain": [
       "[(121, 'John Snow', 321, None, 'Toronto'),\n",
       " (121, 'John Snow', 321, None, 'Toronto'),\n",
       " (321, 'Walter White', 986, None, 'California'),\n",
       " (421, 'Kuldeep Rana', 876, None, 'New Delhi'),\n",
       " (121, 'John Snow', 321, None, 'Toronto'),\n",
       " (321, 'Walter White', 986, None, 'California'),\n",
       " (421, 'Kuldeep Rana', 876, None, 'New Delhi')]"
      ]
     },
     "execution_count": 107,
     "metadata": {},
     "output_type": "execute_result"
    }
   ],
   "source": [
    "cursor.fetchall()"
   ]
  },
  {
   "cell_type": "markdown",
   "id": "0677a356-d580-4bed-b5b0-b43662bab190",
   "metadata": {},
   "source": [
    "### 31.Write an SQL query to fetch only even rows from the table.\n"
   ]
  },
  {
   "cell_type": "code",
   "execution_count": 108,
   "id": "af13b184-b244-4554-b409-d5439c4e7416",
   "metadata": {},
   "outputs": [],
   "source": [
    "cursor.execute(\"SELECT * FROM EmployeeDetails WHERE MOD (EmpId, 2) = 0\")"
   ]
  },
  {
   "cell_type": "code",
   "execution_count": 109,
   "id": "9dd1b4d7-b228-434c-bd46-f865d607a071",
   "metadata": {},
   "outputs": [
    {
     "data": {
      "text/plain": [
       "[]"
      ]
     },
     "execution_count": 109,
     "metadata": {},
     "output_type": "execute_result"
    }
   ],
   "source": [
    "cursor.fetchall()"
   ]
  },
  {
   "cell_type": "code",
   "execution_count": 110,
   "id": "3e6fc282-f567-44bc-937e-ad8523194c63",
   "metadata": {},
   "outputs": [],
   "source": [
    "cursor.execute(\"SELECT * FROM EmployeeDetails WHERE EmpId % 2 = 0\")"
   ]
  },
  {
   "cell_type": "code",
   "execution_count": 111,
   "id": "8cacca56-7d02-4896-8932-c3788cab7e66",
   "metadata": {},
   "outputs": [
    {
     "data": {
      "text/plain": [
       "[]"
      ]
     },
     "execution_count": 111,
     "metadata": {},
     "output_type": "execute_result"
    }
   ],
   "source": [
    "cursor.fetchall()"
   ]
  },
  {
   "cell_type": "markdown",
   "id": "26ca5e20-31ea-48b9-9df2-6fa08d0b7325",
   "metadata": {},
   "source": [
    "### 32.Write an SQL query to create a new table with data and structure copied from another table."
   ]
  },
  {
   "cell_type": "code",
   "execution_count": 112,
   "id": "09933ca7-ed54-4e02-b5dd-3adf7581fb7e",
   "metadata": {},
   "outputs": [
    {
     "ename": "ProgrammingError",
     "evalue": "1050 (42S01): Table 'Newtab' already exists",
     "output_type": "error",
     "traceback": [
      "\u001b[1;31m---------------------------------------------------------------------------\u001b[0m",
      "\u001b[1;31mMySQLInterfaceError\u001b[0m                       Traceback (most recent call last)",
      "File \u001b[1;32m~\\AppData\\Local\\Programs\\Python\\Python311\\Lib\\site-packages\\mysql\\connector\\connection_cext.py:633\u001b[0m, in \u001b[0;36mCMySQLConnection.cmd_query\u001b[1;34m(self, query, raw, buffered, raw_as_string)\u001b[0m\n\u001b[0;32m    632\u001b[0m         query \u001b[38;5;241m=\u001b[39m query\u001b[38;5;241m.\u001b[39mencode(\u001b[38;5;124m\"\u001b[39m\u001b[38;5;124mutf-8\u001b[39m\u001b[38;5;124m\"\u001b[39m)\n\u001b[1;32m--> 633\u001b[0m     \u001b[38;5;28;43mself\u001b[39;49m\u001b[38;5;241;43m.\u001b[39;49m\u001b[43m_cmysql\u001b[49m\u001b[38;5;241;43m.\u001b[39;49m\u001b[43mquery\u001b[49m\u001b[43m(\u001b[49m\n\u001b[0;32m    634\u001b[0m \u001b[43m        \u001b[49m\u001b[43mquery\u001b[49m\u001b[43m,\u001b[49m\n\u001b[0;32m    635\u001b[0m \u001b[43m        \u001b[49m\u001b[43mraw\u001b[49m\u001b[38;5;241;43m=\u001b[39;49m\u001b[43mraw\u001b[49m\u001b[43m,\u001b[49m\n\u001b[0;32m    636\u001b[0m \u001b[43m        \u001b[49m\u001b[43mbuffered\u001b[49m\u001b[38;5;241;43m=\u001b[39;49m\u001b[43mbuffered\u001b[49m\u001b[43m,\u001b[49m\n\u001b[0;32m    637\u001b[0m \u001b[43m        \u001b[49m\u001b[43mraw_as_string\u001b[49m\u001b[38;5;241;43m=\u001b[39;49m\u001b[43mraw_as_string\u001b[49m\u001b[43m,\u001b[49m\n\u001b[0;32m    638\u001b[0m \u001b[43m        \u001b[49m\u001b[43mquery_attrs\u001b[49m\u001b[38;5;241;43m=\u001b[39;49m\u001b[38;5;28;43mself\u001b[39;49m\u001b[38;5;241;43m.\u001b[39;49m\u001b[43mquery_attrs\u001b[49m\u001b[43m,\u001b[49m\n\u001b[0;32m    639\u001b[0m \u001b[43m    \u001b[49m\u001b[43m)\u001b[49m\n\u001b[0;32m    640\u001b[0m \u001b[38;5;28;01mexcept\u001b[39;00m MySQLInterfaceError \u001b[38;5;28;01mas\u001b[39;00m err:\n",
      "\u001b[1;31mMySQLInterfaceError\u001b[0m: Table 'Newtab' already exists",
      "\nThe above exception was the direct cause of the following exception:\n",
      "\u001b[1;31mProgrammingError\u001b[0m                          Traceback (most recent call last)",
      "Cell \u001b[1;32mIn[112], line 1\u001b[0m\n\u001b[1;32m----> 1\u001b[0m \u001b[43mcursor\u001b[49m\u001b[38;5;241;43m.\u001b[39;49m\u001b[43mexecute\u001b[49m\u001b[43m(\u001b[49m\u001b[38;5;124;43m\"\u001b[39;49m\u001b[38;5;124;43mCreate Table Newtab Select * from EmployeeSalary\u001b[39;49m\u001b[38;5;124;43m\"\u001b[39;49m\u001b[43m)\u001b[49m\n",
      "File \u001b[1;32m~\\AppData\\Local\\Programs\\Python\\Python311\\Lib\\site-packages\\mysql\\connector\\cursor_cext.py:330\u001b[0m, in \u001b[0;36mCMySQLCursor.execute\u001b[1;34m(self, operation, params, multi)\u001b[0m\n\u001b[0;32m    325\u001b[0m             \u001b[38;5;28;01mraise\u001b[39;00m ProgrammingError(\n\u001b[0;32m    326\u001b[0m                 \u001b[38;5;124m\"\u001b[39m\u001b[38;5;124mNot all parameters were used in the SQL statement\u001b[39m\u001b[38;5;124m\"\u001b[39m\n\u001b[0;32m    327\u001b[0m             )\n\u001b[0;32m    329\u001b[0m \u001b[38;5;28;01mtry\u001b[39;00m:\n\u001b[1;32m--> 330\u001b[0m     result \u001b[38;5;241m=\u001b[39m \u001b[38;5;28;43mself\u001b[39;49m\u001b[38;5;241;43m.\u001b[39;49m\u001b[43m_cnx\u001b[49m\u001b[38;5;241;43m.\u001b[39;49m\u001b[43mcmd_query\u001b[49m\u001b[43m(\u001b[49m\n\u001b[0;32m    331\u001b[0m \u001b[43m        \u001b[49m\u001b[43mstmt\u001b[49m\u001b[43m,\u001b[49m\n\u001b[0;32m    332\u001b[0m \u001b[43m        \u001b[49m\u001b[43mraw\u001b[49m\u001b[38;5;241;43m=\u001b[39;49m\u001b[38;5;28;43mself\u001b[39;49m\u001b[38;5;241;43m.\u001b[39;49m\u001b[43m_raw\u001b[49m\u001b[43m,\u001b[49m\n\u001b[0;32m    333\u001b[0m \u001b[43m        \u001b[49m\u001b[43mbuffered\u001b[49m\u001b[38;5;241;43m=\u001b[39;49m\u001b[38;5;28;43mself\u001b[39;49m\u001b[38;5;241;43m.\u001b[39;49m\u001b[43m_buffered\u001b[49m\u001b[43m,\u001b[49m\n\u001b[0;32m    334\u001b[0m \u001b[43m        \u001b[49m\u001b[43mraw_as_string\u001b[49m\u001b[38;5;241;43m=\u001b[39;49m\u001b[38;5;28;43mself\u001b[39;49m\u001b[38;5;241;43m.\u001b[39;49m\u001b[43m_raw_as_string\u001b[49m\u001b[43m,\u001b[49m\n\u001b[0;32m    335\u001b[0m \u001b[43m    \u001b[49m\u001b[43m)\u001b[49m\n\u001b[0;32m    336\u001b[0m \u001b[38;5;28;01mexcept\u001b[39;00m MySQLInterfaceError \u001b[38;5;28;01mas\u001b[39;00m err:\n\u001b[0;32m    337\u001b[0m     \u001b[38;5;28;01mraise\u001b[39;00m get_mysql_exception(\n\u001b[0;32m    338\u001b[0m         msg\u001b[38;5;241m=\u001b[39merr\u001b[38;5;241m.\u001b[39mmsg, errno\u001b[38;5;241m=\u001b[39merr\u001b[38;5;241m.\u001b[39merrno, sqlstate\u001b[38;5;241m=\u001b[39merr\u001b[38;5;241m.\u001b[39msqlstate\n\u001b[0;32m    339\u001b[0m     ) \u001b[38;5;28;01mfrom\u001b[39;00m \u001b[38;5;21;01merr\u001b[39;00m\n",
      "File \u001b[1;32m~\\AppData\\Local\\Programs\\Python\\Python311\\Lib\\site-packages\\mysql\\connector\\opentelemetry\\context_propagation.py:77\u001b[0m, in \u001b[0;36mwith_context_propagation.<locals>.wrapper\u001b[1;34m(cnx, *args, **kwargs)\u001b[0m\n\u001b[0;32m     75\u001b[0m \u001b[38;5;250m\u001b[39m\u001b[38;5;124;03m\"\"\"Context propagation decorator.\"\"\"\u001b[39;00m\n\u001b[0;32m     76\u001b[0m \u001b[38;5;28;01mif\u001b[39;00m \u001b[38;5;129;01mnot\u001b[39;00m OTEL_ENABLED \u001b[38;5;129;01mor\u001b[39;00m \u001b[38;5;129;01mnot\u001b[39;00m cnx\u001b[38;5;241m.\u001b[39motel_context_propagation:\n\u001b[1;32m---> 77\u001b[0m     \u001b[38;5;28;01mreturn\u001b[39;00m \u001b[43mmethod\u001b[49m\u001b[43m(\u001b[49m\u001b[43mcnx\u001b[49m\u001b[43m,\u001b[49m\u001b[43m \u001b[49m\u001b[38;5;241;43m*\u001b[39;49m\u001b[43margs\u001b[49m\u001b[43m,\u001b[49m\u001b[43m \u001b[49m\u001b[38;5;241;43m*\u001b[39;49m\u001b[38;5;241;43m*\u001b[39;49m\u001b[43mkwargs\u001b[49m\u001b[43m)\u001b[49m\n\u001b[0;32m     79\u001b[0m current_span \u001b[38;5;241m=\u001b[39m trace\u001b[38;5;241m.\u001b[39mget_current_span()\n\u001b[0;32m     80\u001b[0m tp_header \u001b[38;5;241m=\u001b[39m \u001b[38;5;28;01mNone\u001b[39;00m\n",
      "File \u001b[1;32m~\\AppData\\Local\\Programs\\Python\\Python311\\Lib\\site-packages\\mysql\\connector\\connection_cext.py:641\u001b[0m, in \u001b[0;36mCMySQLConnection.cmd_query\u001b[1;34m(self, query, raw, buffered, raw_as_string)\u001b[0m\n\u001b[0;32m    633\u001b[0m     \u001b[38;5;28mself\u001b[39m\u001b[38;5;241m.\u001b[39m_cmysql\u001b[38;5;241m.\u001b[39mquery(\n\u001b[0;32m    634\u001b[0m         query,\n\u001b[0;32m    635\u001b[0m         raw\u001b[38;5;241m=\u001b[39mraw,\n\u001b[1;32m   (...)\u001b[0m\n\u001b[0;32m    638\u001b[0m         query_attrs\u001b[38;5;241m=\u001b[39m\u001b[38;5;28mself\u001b[39m\u001b[38;5;241m.\u001b[39mquery_attrs,\n\u001b[0;32m    639\u001b[0m     )\n\u001b[0;32m    640\u001b[0m \u001b[38;5;28;01mexcept\u001b[39;00m MySQLInterfaceError \u001b[38;5;28;01mas\u001b[39;00m err:\n\u001b[1;32m--> 641\u001b[0m     \u001b[38;5;28;01mraise\u001b[39;00m get_mysql_exception(\n\u001b[0;32m    642\u001b[0m         err\u001b[38;5;241m.\u001b[39merrno, msg\u001b[38;5;241m=\u001b[39merr\u001b[38;5;241m.\u001b[39mmsg, sqlstate\u001b[38;5;241m=\u001b[39merr\u001b[38;5;241m.\u001b[39msqlstate\n\u001b[0;32m    643\u001b[0m     ) \u001b[38;5;28;01mfrom\u001b[39;00m \u001b[38;5;21;01merr\u001b[39;00m\n\u001b[0;32m    644\u001b[0m \u001b[38;5;28;01mexcept\u001b[39;00m \u001b[38;5;167;01mAttributeError\u001b[39;00m \u001b[38;5;28;01mas\u001b[39;00m err:\n\u001b[0;32m    645\u001b[0m     addr \u001b[38;5;241m=\u001b[39m (\n\u001b[0;32m    646\u001b[0m         \u001b[38;5;28mself\u001b[39m\u001b[38;5;241m.\u001b[39m_unix_socket \u001b[38;5;28;01mif\u001b[39;00m \u001b[38;5;28mself\u001b[39m\u001b[38;5;241m.\u001b[39m_unix_socket \u001b[38;5;28;01melse\u001b[39;00m \u001b[38;5;124mf\u001b[39m\u001b[38;5;124m\"\u001b[39m\u001b[38;5;132;01m{\u001b[39;00m\u001b[38;5;28mself\u001b[39m\u001b[38;5;241m.\u001b[39m_host\u001b[38;5;132;01m}\u001b[39;00m\u001b[38;5;124m:\u001b[39m\u001b[38;5;132;01m{\u001b[39;00m\u001b[38;5;28mself\u001b[39m\u001b[38;5;241m.\u001b[39m_port\u001b[38;5;132;01m}\u001b[39;00m\u001b[38;5;124m\"\u001b[39m\n\u001b[0;32m    647\u001b[0m     )\n",
      "\u001b[1;31mProgrammingError\u001b[0m: 1050 (42S01): Table 'Newtab' already exists"
     ]
    }
   ],
   "source": [
    "cursor.execute(\"Create Table Newtab Select * from EmployeeSalary\")"
   ]
  },
  {
   "cell_type": "code",
   "execution_count": 113,
   "id": "53777b1f-d7bd-4edb-ab03-422fe41d3559",
   "metadata": {},
   "outputs": [
    {
     "data": {
      "text/plain": [
       "[]"
      ]
     },
     "execution_count": 113,
     "metadata": {},
     "output_type": "execute_result"
    }
   ],
   "source": [
    "cursor.fetchall()"
   ]
  },
  {
   "cell_type": "markdown",
   "id": "3266bb91-f9b4-4494-8e53-1462b81fcdc6",
   "metadata": {},
   "source": [
    "### 33.Write an SQL query to create an empty table with the same structure as some other table."
   ]
  },
  {
   "cell_type": "code",
   "execution_count": 114,
   "id": "809ba3a8-01ee-4979-8fc6-da63e8430a22",
   "metadata": {},
   "outputs": [
    {
     "ename": "ProgrammingError",
     "evalue": "1050 (42S01): Table 'tab_1' already exists",
     "output_type": "error",
     "traceback": [
      "\u001b[1;31m---------------------------------------------------------------------------\u001b[0m",
      "\u001b[1;31mMySQLInterfaceError\u001b[0m                       Traceback (most recent call last)",
      "File \u001b[1;32m~\\AppData\\Local\\Programs\\Python\\Python311\\Lib\\site-packages\\mysql\\connector\\connection_cext.py:633\u001b[0m, in \u001b[0;36mCMySQLConnection.cmd_query\u001b[1;34m(self, query, raw, buffered, raw_as_string)\u001b[0m\n\u001b[0;32m    632\u001b[0m         query \u001b[38;5;241m=\u001b[39m query\u001b[38;5;241m.\u001b[39mencode(\u001b[38;5;124m\"\u001b[39m\u001b[38;5;124mutf-8\u001b[39m\u001b[38;5;124m\"\u001b[39m)\n\u001b[1;32m--> 633\u001b[0m     \u001b[38;5;28;43mself\u001b[39;49m\u001b[38;5;241;43m.\u001b[39;49m\u001b[43m_cmysql\u001b[49m\u001b[38;5;241;43m.\u001b[39;49m\u001b[43mquery\u001b[49m\u001b[43m(\u001b[49m\n\u001b[0;32m    634\u001b[0m \u001b[43m        \u001b[49m\u001b[43mquery\u001b[49m\u001b[43m,\u001b[49m\n\u001b[0;32m    635\u001b[0m \u001b[43m        \u001b[49m\u001b[43mraw\u001b[49m\u001b[38;5;241;43m=\u001b[39;49m\u001b[43mraw\u001b[49m\u001b[43m,\u001b[49m\n\u001b[0;32m    636\u001b[0m \u001b[43m        \u001b[49m\u001b[43mbuffered\u001b[49m\u001b[38;5;241;43m=\u001b[39;49m\u001b[43mbuffered\u001b[49m\u001b[43m,\u001b[49m\n\u001b[0;32m    637\u001b[0m \u001b[43m        \u001b[49m\u001b[43mraw_as_string\u001b[49m\u001b[38;5;241;43m=\u001b[39;49m\u001b[43mraw_as_string\u001b[49m\u001b[43m,\u001b[49m\n\u001b[0;32m    638\u001b[0m \u001b[43m        \u001b[49m\u001b[43mquery_attrs\u001b[49m\u001b[38;5;241;43m=\u001b[39;49m\u001b[38;5;28;43mself\u001b[39;49m\u001b[38;5;241;43m.\u001b[39;49m\u001b[43mquery_attrs\u001b[49m\u001b[43m,\u001b[49m\n\u001b[0;32m    639\u001b[0m \u001b[43m    \u001b[49m\u001b[43m)\u001b[49m\n\u001b[0;32m    640\u001b[0m \u001b[38;5;28;01mexcept\u001b[39;00m MySQLInterfaceError \u001b[38;5;28;01mas\u001b[39;00m err:\n",
      "\u001b[1;31mMySQLInterfaceError\u001b[0m: Table 'tab_1' already exists",
      "\nThe above exception was the direct cause of the following exception:\n",
      "\u001b[1;31mProgrammingError\u001b[0m                          Traceback (most recent call last)",
      "Cell \u001b[1;32mIn[114], line 1\u001b[0m\n\u001b[1;32m----> 1\u001b[0m \u001b[43mcursor\u001b[49m\u001b[38;5;241;43m.\u001b[39;49m\u001b[43mexecute\u001b[49m\u001b[43m(\u001b[49m\u001b[38;5;124;43m\"\u001b[39;49m\u001b[38;5;124;43mCreate Table tab_1 Select * from EmployeeSalary where 1=0\u001b[39;49m\u001b[38;5;124;43m\"\u001b[39;49m\u001b[43m)\u001b[49m\n",
      "File \u001b[1;32m~\\AppData\\Local\\Programs\\Python\\Python311\\Lib\\site-packages\\mysql\\connector\\cursor_cext.py:330\u001b[0m, in \u001b[0;36mCMySQLCursor.execute\u001b[1;34m(self, operation, params, multi)\u001b[0m\n\u001b[0;32m    325\u001b[0m             \u001b[38;5;28;01mraise\u001b[39;00m ProgrammingError(\n\u001b[0;32m    326\u001b[0m                 \u001b[38;5;124m\"\u001b[39m\u001b[38;5;124mNot all parameters were used in the SQL statement\u001b[39m\u001b[38;5;124m\"\u001b[39m\n\u001b[0;32m    327\u001b[0m             )\n\u001b[0;32m    329\u001b[0m \u001b[38;5;28;01mtry\u001b[39;00m:\n\u001b[1;32m--> 330\u001b[0m     result \u001b[38;5;241m=\u001b[39m \u001b[38;5;28;43mself\u001b[39;49m\u001b[38;5;241;43m.\u001b[39;49m\u001b[43m_cnx\u001b[49m\u001b[38;5;241;43m.\u001b[39;49m\u001b[43mcmd_query\u001b[49m\u001b[43m(\u001b[49m\n\u001b[0;32m    331\u001b[0m \u001b[43m        \u001b[49m\u001b[43mstmt\u001b[49m\u001b[43m,\u001b[49m\n\u001b[0;32m    332\u001b[0m \u001b[43m        \u001b[49m\u001b[43mraw\u001b[49m\u001b[38;5;241;43m=\u001b[39;49m\u001b[38;5;28;43mself\u001b[39;49m\u001b[38;5;241;43m.\u001b[39;49m\u001b[43m_raw\u001b[49m\u001b[43m,\u001b[49m\n\u001b[0;32m    333\u001b[0m \u001b[43m        \u001b[49m\u001b[43mbuffered\u001b[49m\u001b[38;5;241;43m=\u001b[39;49m\u001b[38;5;28;43mself\u001b[39;49m\u001b[38;5;241;43m.\u001b[39;49m\u001b[43m_buffered\u001b[49m\u001b[43m,\u001b[49m\n\u001b[0;32m    334\u001b[0m \u001b[43m        \u001b[49m\u001b[43mraw_as_string\u001b[49m\u001b[38;5;241;43m=\u001b[39;49m\u001b[38;5;28;43mself\u001b[39;49m\u001b[38;5;241;43m.\u001b[39;49m\u001b[43m_raw_as_string\u001b[49m\u001b[43m,\u001b[49m\n\u001b[0;32m    335\u001b[0m \u001b[43m    \u001b[49m\u001b[43m)\u001b[49m\n\u001b[0;32m    336\u001b[0m \u001b[38;5;28;01mexcept\u001b[39;00m MySQLInterfaceError \u001b[38;5;28;01mas\u001b[39;00m err:\n\u001b[0;32m    337\u001b[0m     \u001b[38;5;28;01mraise\u001b[39;00m get_mysql_exception(\n\u001b[0;32m    338\u001b[0m         msg\u001b[38;5;241m=\u001b[39merr\u001b[38;5;241m.\u001b[39mmsg, errno\u001b[38;5;241m=\u001b[39merr\u001b[38;5;241m.\u001b[39merrno, sqlstate\u001b[38;5;241m=\u001b[39merr\u001b[38;5;241m.\u001b[39msqlstate\n\u001b[0;32m    339\u001b[0m     ) \u001b[38;5;28;01mfrom\u001b[39;00m \u001b[38;5;21;01merr\u001b[39;00m\n",
      "File \u001b[1;32m~\\AppData\\Local\\Programs\\Python\\Python311\\Lib\\site-packages\\mysql\\connector\\opentelemetry\\context_propagation.py:77\u001b[0m, in \u001b[0;36mwith_context_propagation.<locals>.wrapper\u001b[1;34m(cnx, *args, **kwargs)\u001b[0m\n\u001b[0;32m     75\u001b[0m \u001b[38;5;250m\u001b[39m\u001b[38;5;124;03m\"\"\"Context propagation decorator.\"\"\"\u001b[39;00m\n\u001b[0;32m     76\u001b[0m \u001b[38;5;28;01mif\u001b[39;00m \u001b[38;5;129;01mnot\u001b[39;00m OTEL_ENABLED \u001b[38;5;129;01mor\u001b[39;00m \u001b[38;5;129;01mnot\u001b[39;00m cnx\u001b[38;5;241m.\u001b[39motel_context_propagation:\n\u001b[1;32m---> 77\u001b[0m     \u001b[38;5;28;01mreturn\u001b[39;00m \u001b[43mmethod\u001b[49m\u001b[43m(\u001b[49m\u001b[43mcnx\u001b[49m\u001b[43m,\u001b[49m\u001b[43m \u001b[49m\u001b[38;5;241;43m*\u001b[39;49m\u001b[43margs\u001b[49m\u001b[43m,\u001b[49m\u001b[43m \u001b[49m\u001b[38;5;241;43m*\u001b[39;49m\u001b[38;5;241;43m*\u001b[39;49m\u001b[43mkwargs\u001b[49m\u001b[43m)\u001b[49m\n\u001b[0;32m     79\u001b[0m current_span \u001b[38;5;241m=\u001b[39m trace\u001b[38;5;241m.\u001b[39mget_current_span()\n\u001b[0;32m     80\u001b[0m tp_header \u001b[38;5;241m=\u001b[39m \u001b[38;5;28;01mNone\u001b[39;00m\n",
      "File \u001b[1;32m~\\AppData\\Local\\Programs\\Python\\Python311\\Lib\\site-packages\\mysql\\connector\\connection_cext.py:641\u001b[0m, in \u001b[0;36mCMySQLConnection.cmd_query\u001b[1;34m(self, query, raw, buffered, raw_as_string)\u001b[0m\n\u001b[0;32m    633\u001b[0m     \u001b[38;5;28mself\u001b[39m\u001b[38;5;241m.\u001b[39m_cmysql\u001b[38;5;241m.\u001b[39mquery(\n\u001b[0;32m    634\u001b[0m         query,\n\u001b[0;32m    635\u001b[0m         raw\u001b[38;5;241m=\u001b[39mraw,\n\u001b[1;32m   (...)\u001b[0m\n\u001b[0;32m    638\u001b[0m         query_attrs\u001b[38;5;241m=\u001b[39m\u001b[38;5;28mself\u001b[39m\u001b[38;5;241m.\u001b[39mquery_attrs,\n\u001b[0;32m    639\u001b[0m     )\n\u001b[0;32m    640\u001b[0m \u001b[38;5;28;01mexcept\u001b[39;00m MySQLInterfaceError \u001b[38;5;28;01mas\u001b[39;00m err:\n\u001b[1;32m--> 641\u001b[0m     \u001b[38;5;28;01mraise\u001b[39;00m get_mysql_exception(\n\u001b[0;32m    642\u001b[0m         err\u001b[38;5;241m.\u001b[39merrno, msg\u001b[38;5;241m=\u001b[39merr\u001b[38;5;241m.\u001b[39mmsg, sqlstate\u001b[38;5;241m=\u001b[39merr\u001b[38;5;241m.\u001b[39msqlstate\n\u001b[0;32m    643\u001b[0m     ) \u001b[38;5;28;01mfrom\u001b[39;00m \u001b[38;5;21;01merr\u001b[39;00m\n\u001b[0;32m    644\u001b[0m \u001b[38;5;28;01mexcept\u001b[39;00m \u001b[38;5;167;01mAttributeError\u001b[39;00m \u001b[38;5;28;01mas\u001b[39;00m err:\n\u001b[0;32m    645\u001b[0m     addr \u001b[38;5;241m=\u001b[39m (\n\u001b[0;32m    646\u001b[0m         \u001b[38;5;28mself\u001b[39m\u001b[38;5;241m.\u001b[39m_unix_socket \u001b[38;5;28;01mif\u001b[39;00m \u001b[38;5;28mself\u001b[39m\u001b[38;5;241m.\u001b[39m_unix_socket \u001b[38;5;28;01melse\u001b[39;00m \u001b[38;5;124mf\u001b[39m\u001b[38;5;124m\"\u001b[39m\u001b[38;5;132;01m{\u001b[39;00m\u001b[38;5;28mself\u001b[39m\u001b[38;5;241m.\u001b[39m_host\u001b[38;5;132;01m}\u001b[39;00m\u001b[38;5;124m:\u001b[39m\u001b[38;5;132;01m{\u001b[39;00m\u001b[38;5;28mself\u001b[39m\u001b[38;5;241m.\u001b[39m_port\u001b[38;5;132;01m}\u001b[39;00m\u001b[38;5;124m\"\u001b[39m\n\u001b[0;32m    647\u001b[0m     )\n",
      "\u001b[1;31mProgrammingError\u001b[0m: 1050 (42S01): Table 'tab_1' already exists"
     ]
    }
   ],
   "source": [
    "cursor.execute(\"Create Table tab_1 Select * from EmployeeSalary where 1=0\")"
   ]
  },
  {
   "cell_type": "code",
   "execution_count": 115,
   "id": "4e8c93e8-ced5-4405-90e7-df43b49d0943",
   "metadata": {},
   "outputs": [
    {
     "data": {
      "text/plain": [
       "[]"
      ]
     },
     "execution_count": 115,
     "metadata": {},
     "output_type": "execute_result"
    }
   ],
   "source": [
    "cursor.fetchall()"
   ]
  },
  {
   "cell_type": "code",
   "execution_count": 116,
   "id": "42f7b632-53c4-4567-a058-6eafcb8b204b",
   "metadata": {},
   "outputs": [
    {
     "ename": "ProgrammingError",
     "evalue": "1146 (42S02): Table 'testyash.existingtablename' doesn't exist",
     "output_type": "error",
     "traceback": [
      "\u001b[1;31m---------------------------------------------------------------------------\u001b[0m",
      "\u001b[1;31mMySQLInterfaceError\u001b[0m                       Traceback (most recent call last)",
      "File \u001b[1;32m~\\AppData\\Local\\Programs\\Python\\Python311\\Lib\\site-packages\\mysql\\connector\\connection_cext.py:633\u001b[0m, in \u001b[0;36mCMySQLConnection.cmd_query\u001b[1;34m(self, query, raw, buffered, raw_as_string)\u001b[0m\n\u001b[0;32m    632\u001b[0m         query \u001b[38;5;241m=\u001b[39m query\u001b[38;5;241m.\u001b[39mencode(\u001b[38;5;124m\"\u001b[39m\u001b[38;5;124mutf-8\u001b[39m\u001b[38;5;124m\"\u001b[39m)\n\u001b[1;32m--> 633\u001b[0m     \u001b[38;5;28;43mself\u001b[39;49m\u001b[38;5;241;43m.\u001b[39;49m\u001b[43m_cmysql\u001b[49m\u001b[38;5;241;43m.\u001b[39;49m\u001b[43mquery\u001b[49m\u001b[43m(\u001b[49m\n\u001b[0;32m    634\u001b[0m \u001b[43m        \u001b[49m\u001b[43mquery\u001b[49m\u001b[43m,\u001b[49m\n\u001b[0;32m    635\u001b[0m \u001b[43m        \u001b[49m\u001b[43mraw\u001b[49m\u001b[38;5;241;43m=\u001b[39;49m\u001b[43mraw\u001b[49m\u001b[43m,\u001b[49m\n\u001b[0;32m    636\u001b[0m \u001b[43m        \u001b[49m\u001b[43mbuffered\u001b[49m\u001b[38;5;241;43m=\u001b[39;49m\u001b[43mbuffered\u001b[49m\u001b[43m,\u001b[49m\n\u001b[0;32m    637\u001b[0m \u001b[43m        \u001b[49m\u001b[43mraw_as_string\u001b[49m\u001b[38;5;241;43m=\u001b[39;49m\u001b[43mraw_as_string\u001b[49m\u001b[43m,\u001b[49m\n\u001b[0;32m    638\u001b[0m \u001b[43m        \u001b[49m\u001b[43mquery_attrs\u001b[49m\u001b[38;5;241;43m=\u001b[39;49m\u001b[38;5;28;43mself\u001b[39;49m\u001b[38;5;241;43m.\u001b[39;49m\u001b[43mquery_attrs\u001b[49m\u001b[43m,\u001b[49m\n\u001b[0;32m    639\u001b[0m \u001b[43m    \u001b[49m\u001b[43m)\u001b[49m\n\u001b[0;32m    640\u001b[0m \u001b[38;5;28;01mexcept\u001b[39;00m MySQLInterfaceError \u001b[38;5;28;01mas\u001b[39;00m err:\n",
      "\u001b[1;31mMySQLInterfaceError\u001b[0m: Table 'testyash.existingtablename' doesn't exist",
      "\nThe above exception was the direct cause of the following exception:\n",
      "\u001b[1;31mProgrammingError\u001b[0m                          Traceback (most recent call last)",
      "Cell \u001b[1;32mIn[116], line 1\u001b[0m\n\u001b[1;32m----> 1\u001b[0m \u001b[43mcursor\u001b[49m\u001b[38;5;241;43m.\u001b[39;49m\u001b[43mexecute\u001b[49m\u001b[43m(\u001b[49m\u001b[38;5;124;43m\"\u001b[39;49m\u001b[38;5;124;43mCREATE TABLE NewTableName LIKE ExistingTableName\u001b[39;49m\u001b[38;5;124;43m\"\u001b[39;49m\u001b[43m)\u001b[49m\n",
      "File \u001b[1;32m~\\AppData\\Local\\Programs\\Python\\Python311\\Lib\\site-packages\\mysql\\connector\\cursor_cext.py:330\u001b[0m, in \u001b[0;36mCMySQLCursor.execute\u001b[1;34m(self, operation, params, multi)\u001b[0m\n\u001b[0;32m    325\u001b[0m             \u001b[38;5;28;01mraise\u001b[39;00m ProgrammingError(\n\u001b[0;32m    326\u001b[0m                 \u001b[38;5;124m\"\u001b[39m\u001b[38;5;124mNot all parameters were used in the SQL statement\u001b[39m\u001b[38;5;124m\"\u001b[39m\n\u001b[0;32m    327\u001b[0m             )\n\u001b[0;32m    329\u001b[0m \u001b[38;5;28;01mtry\u001b[39;00m:\n\u001b[1;32m--> 330\u001b[0m     result \u001b[38;5;241m=\u001b[39m \u001b[38;5;28;43mself\u001b[39;49m\u001b[38;5;241;43m.\u001b[39;49m\u001b[43m_cnx\u001b[49m\u001b[38;5;241;43m.\u001b[39;49m\u001b[43mcmd_query\u001b[49m\u001b[43m(\u001b[49m\n\u001b[0;32m    331\u001b[0m \u001b[43m        \u001b[49m\u001b[43mstmt\u001b[49m\u001b[43m,\u001b[49m\n\u001b[0;32m    332\u001b[0m \u001b[43m        \u001b[49m\u001b[43mraw\u001b[49m\u001b[38;5;241;43m=\u001b[39;49m\u001b[38;5;28;43mself\u001b[39;49m\u001b[38;5;241;43m.\u001b[39;49m\u001b[43m_raw\u001b[49m\u001b[43m,\u001b[49m\n\u001b[0;32m    333\u001b[0m \u001b[43m        \u001b[49m\u001b[43mbuffered\u001b[49m\u001b[38;5;241;43m=\u001b[39;49m\u001b[38;5;28;43mself\u001b[39;49m\u001b[38;5;241;43m.\u001b[39;49m\u001b[43m_buffered\u001b[49m\u001b[43m,\u001b[49m\n\u001b[0;32m    334\u001b[0m \u001b[43m        \u001b[49m\u001b[43mraw_as_string\u001b[49m\u001b[38;5;241;43m=\u001b[39;49m\u001b[38;5;28;43mself\u001b[39;49m\u001b[38;5;241;43m.\u001b[39;49m\u001b[43m_raw_as_string\u001b[49m\u001b[43m,\u001b[49m\n\u001b[0;32m    335\u001b[0m \u001b[43m    \u001b[49m\u001b[43m)\u001b[49m\n\u001b[0;32m    336\u001b[0m \u001b[38;5;28;01mexcept\u001b[39;00m MySQLInterfaceError \u001b[38;5;28;01mas\u001b[39;00m err:\n\u001b[0;32m    337\u001b[0m     \u001b[38;5;28;01mraise\u001b[39;00m get_mysql_exception(\n\u001b[0;32m    338\u001b[0m         msg\u001b[38;5;241m=\u001b[39merr\u001b[38;5;241m.\u001b[39mmsg, errno\u001b[38;5;241m=\u001b[39merr\u001b[38;5;241m.\u001b[39merrno, sqlstate\u001b[38;5;241m=\u001b[39merr\u001b[38;5;241m.\u001b[39msqlstate\n\u001b[0;32m    339\u001b[0m     ) \u001b[38;5;28;01mfrom\u001b[39;00m \u001b[38;5;21;01merr\u001b[39;00m\n",
      "File \u001b[1;32m~\\AppData\\Local\\Programs\\Python\\Python311\\Lib\\site-packages\\mysql\\connector\\opentelemetry\\context_propagation.py:77\u001b[0m, in \u001b[0;36mwith_context_propagation.<locals>.wrapper\u001b[1;34m(cnx, *args, **kwargs)\u001b[0m\n\u001b[0;32m     75\u001b[0m \u001b[38;5;250m\u001b[39m\u001b[38;5;124;03m\"\"\"Context propagation decorator.\"\"\"\u001b[39;00m\n\u001b[0;32m     76\u001b[0m \u001b[38;5;28;01mif\u001b[39;00m \u001b[38;5;129;01mnot\u001b[39;00m OTEL_ENABLED \u001b[38;5;129;01mor\u001b[39;00m \u001b[38;5;129;01mnot\u001b[39;00m cnx\u001b[38;5;241m.\u001b[39motel_context_propagation:\n\u001b[1;32m---> 77\u001b[0m     \u001b[38;5;28;01mreturn\u001b[39;00m \u001b[43mmethod\u001b[49m\u001b[43m(\u001b[49m\u001b[43mcnx\u001b[49m\u001b[43m,\u001b[49m\u001b[43m \u001b[49m\u001b[38;5;241;43m*\u001b[39;49m\u001b[43margs\u001b[49m\u001b[43m,\u001b[49m\u001b[43m \u001b[49m\u001b[38;5;241;43m*\u001b[39;49m\u001b[38;5;241;43m*\u001b[39;49m\u001b[43mkwargs\u001b[49m\u001b[43m)\u001b[49m\n\u001b[0;32m     79\u001b[0m current_span \u001b[38;5;241m=\u001b[39m trace\u001b[38;5;241m.\u001b[39mget_current_span()\n\u001b[0;32m     80\u001b[0m tp_header \u001b[38;5;241m=\u001b[39m \u001b[38;5;28;01mNone\u001b[39;00m\n",
      "File \u001b[1;32m~\\AppData\\Local\\Programs\\Python\\Python311\\Lib\\site-packages\\mysql\\connector\\connection_cext.py:641\u001b[0m, in \u001b[0;36mCMySQLConnection.cmd_query\u001b[1;34m(self, query, raw, buffered, raw_as_string)\u001b[0m\n\u001b[0;32m    633\u001b[0m     \u001b[38;5;28mself\u001b[39m\u001b[38;5;241m.\u001b[39m_cmysql\u001b[38;5;241m.\u001b[39mquery(\n\u001b[0;32m    634\u001b[0m         query,\n\u001b[0;32m    635\u001b[0m         raw\u001b[38;5;241m=\u001b[39mraw,\n\u001b[1;32m   (...)\u001b[0m\n\u001b[0;32m    638\u001b[0m         query_attrs\u001b[38;5;241m=\u001b[39m\u001b[38;5;28mself\u001b[39m\u001b[38;5;241m.\u001b[39mquery_attrs,\n\u001b[0;32m    639\u001b[0m     )\n\u001b[0;32m    640\u001b[0m \u001b[38;5;28;01mexcept\u001b[39;00m MySQLInterfaceError \u001b[38;5;28;01mas\u001b[39;00m err:\n\u001b[1;32m--> 641\u001b[0m     \u001b[38;5;28;01mraise\u001b[39;00m get_mysql_exception(\n\u001b[0;32m    642\u001b[0m         err\u001b[38;5;241m.\u001b[39merrno, msg\u001b[38;5;241m=\u001b[39merr\u001b[38;5;241m.\u001b[39mmsg, sqlstate\u001b[38;5;241m=\u001b[39merr\u001b[38;5;241m.\u001b[39msqlstate\n\u001b[0;32m    643\u001b[0m     ) \u001b[38;5;28;01mfrom\u001b[39;00m \u001b[38;5;21;01merr\u001b[39;00m\n\u001b[0;32m    644\u001b[0m \u001b[38;5;28;01mexcept\u001b[39;00m \u001b[38;5;167;01mAttributeError\u001b[39;00m \u001b[38;5;28;01mas\u001b[39;00m err:\n\u001b[0;32m    645\u001b[0m     addr \u001b[38;5;241m=\u001b[39m (\n\u001b[0;32m    646\u001b[0m         \u001b[38;5;28mself\u001b[39m\u001b[38;5;241m.\u001b[39m_unix_socket \u001b[38;5;28;01mif\u001b[39;00m \u001b[38;5;28mself\u001b[39m\u001b[38;5;241m.\u001b[39m_unix_socket \u001b[38;5;28;01melse\u001b[39;00m \u001b[38;5;124mf\u001b[39m\u001b[38;5;124m\"\u001b[39m\u001b[38;5;132;01m{\u001b[39;00m\u001b[38;5;28mself\u001b[39m\u001b[38;5;241m.\u001b[39m_host\u001b[38;5;132;01m}\u001b[39;00m\u001b[38;5;124m:\u001b[39m\u001b[38;5;132;01m{\u001b[39;00m\u001b[38;5;28mself\u001b[39m\u001b[38;5;241m.\u001b[39m_port\u001b[38;5;132;01m}\u001b[39;00m\u001b[38;5;124m\"\u001b[39m\n\u001b[0;32m    647\u001b[0m     )\n",
      "\u001b[1;31mProgrammingError\u001b[0m: 1146 (42S02): Table 'testyash.existingtablename' doesn't exist"
     ]
    }
   ],
   "source": [
    "cursor.execute(\"CREATE TABLE NewTableName LIKE ExistingTableName\")\n"
   ]
  },
  {
   "cell_type": "code",
   "execution_count": 117,
   "id": "e100b895-f8d8-4495-8f01-51e0da244e75",
   "metadata": {},
   "outputs": [
    {
     "data": {
      "text/plain": [
       "[]"
      ]
     },
     "execution_count": 117,
     "metadata": {},
     "output_type": "execute_result"
    }
   ],
   "source": [
    "cursor.fetchall()"
   ]
  },
  {
   "cell_type": "code",
   "execution_count": null,
   "id": "264324df-bb62-41fe-8e49-5e20e1561d12",
   "metadata": {},
   "outputs": [],
   "source": []
  },
  {
   "cell_type": "code",
   "execution_count": 118,
   "id": "1e5c5fc3-c70a-4946-8c52-b9c0507b14bf",
   "metadata": {},
   "outputs": [],
   "source": [
    "cursor.execute(\"show tables\")"
   ]
  },
  {
   "cell_type": "code",
   "execution_count": 119,
   "id": "96126ffe-063e-4aa9-aa9d-7cf15311f398",
   "metadata": {},
   "outputs": [
    {
     "data": {
      "text/plain": [
       "[('customer_details',),\n",
       " ('employeedetails',),\n",
       " ('employeesalary',),\n",
       " ('glassdata',),\n",
       " ('mytable',),\n",
       " ('newtab',),\n",
       " ('tab_1',)]"
      ]
     },
     "execution_count": 119,
     "metadata": {},
     "output_type": "execute_result"
    }
   ],
   "source": [
    "cursor.fetchall()"
   ]
  },
  {
   "cell_type": "markdown",
   "id": "edbd5e23-51e1-4814-9214-807e3e2bc956",
   "metadata": {},
   "source": [
    "### 34.Write an SQL query to fetch top n records"
   ]
  },
  {
   "cell_type": "code",
   "execution_count": 4,
   "id": "efb126dd-de71-411b-b009-4facde851584",
   "metadata": {},
   "outputs": [
    {
     "ename": "NameError",
     "evalue": "name 'cursor' is not defined",
     "output_type": "error",
     "traceback": [
      "\u001b[1;31m---------------------------------------------------------------------------\u001b[0m",
      "\u001b[1;31mNameError\u001b[0m                                 Traceback (most recent call last)",
      "Cell \u001b[1;32mIn[4], line 1\u001b[0m\n\u001b[1;32m----> 1\u001b[0m \u001b[43mcursor\u001b[49m\u001b[38;5;241m.\u001b[39mexecute(\u001b[38;5;124m\"\u001b[39m\u001b[38;5;124mSELECT * FROM EmployeeSalary ORDER BY Salary DESC LIMIT 10\u001b[39m\u001b[38;5;124m\"\u001b[39m)\n",
      "\u001b[1;31mNameError\u001b[0m: name 'cursor' is not defined"
     ]
    }
   ],
   "source": [
    "cursor.execute(\"SELECT * FROM EmployeeSalary ORDER BY Salary DESC LIMIT 10\")\n"
   ]
  },
  {
   "cell_type": "code",
   "execution_count": 121,
   "id": "7ab2469d-20f0-45be-bc70-c0b5ba55d6b9",
   "metadata": {},
   "outputs": [
    {
     "data": {
      "text/plain": [
       "[(421, 'p3', 12000, 0), (321, 'p2', 10000, 1000), (121, 'p1', 8000, 500)]"
      ]
     },
     "execution_count": 121,
     "metadata": {},
     "output_type": "execute_result"
    }
   ],
   "source": [
    "cursor.fetchall()"
   ]
  },
  {
   "cell_type": "markdown",
   "id": "9f2fac0b-678a-4c5e-9c8c-e5d32b001810",
   "metadata": {},
   "source": [
    "### 35.Write an SQL query to find the nth highest salary from a table.\n"
   ]
  },
  {
   "cell_type": "code",
   "execution_count": 122,
   "id": "14415af4-7c37-4116-9c17-bd36c766cbb5",
   "metadata": {},
   "outputs": [],
   "source": [
    "cursor.execute(\"SELECT DISTINCT Salary FROM EmployeeSalary ORDER BY Salary DESC LIMIT 2, 1\")\n"
   ]
  },
  {
   "cell_type": "code",
   "execution_count": 123,
   "id": "edc95ad6-da69-433f-b550-f168558f98c3",
   "metadata": {},
   "outputs": [
    {
     "data": {
      "text/plain": [
       "[(8000,)]"
      ]
     },
     "execution_count": 123,
     "metadata": {},
     "output_type": "execute_result"
    }
   ],
   "source": [
    "cursor.fetchall()"
   ]
  },
  {
   "cell_type": "markdown",
   "id": "9c4e66e7-b052-450f-9397-3d7d03f4fa65",
   "metadata": {},
   "source": [
    "### 36.Write SQL query to find the 3rd highest salary from a table without using the TOP/limit keyword."
   ]
  },
  {
   "cell_type": "code",
   "execution_count": 124,
   "id": "5e5a4e91-d608-4573-bcfa-d571eff59cd3",
   "metadata": {},
   "outputs": [],
   "source": [
    "cursor.execute(\"SELECT Salary From EmployeeSalary Emp1 WHERE 3=(SELECT Count(DISTINCT (Emp2.Salary)) from EmployeeSalary Emp2 WHERE Emp2.Salary >= Emp1.Salary)\")"
   ]
  },
  {
   "cell_type": "code",
   "execution_count": 125,
   "id": "2e3f8791-44c2-4c40-8aa5-d70f925f7a4a",
   "metadata": {},
   "outputs": [
    {
     "data": {
      "text/plain": [
       "[(8000,)]"
      ]
     },
     "execution_count": 125,
     "metadata": {},
     "output_type": "execute_result"
    }
   ],
   "source": [
    "cursor.fetchall()"
   ]
  },
  {
   "cell_type": "code",
   "execution_count": null,
   "id": "3637d552-3ed0-4f59-a8e9-13e478744cdf",
   "metadata": {},
   "outputs": [],
   "source": []
  },
  {
   "cell_type": "code",
   "execution_count": null,
   "id": "e02ecbde-46b1-48a2-938e-05e07d314d8e",
   "metadata": {},
   "outputs": [],
   "source": []
  },
  {
   "cell_type": "code",
   "execution_count": null,
   "id": "89c66d08-f2e0-48d8-af11-5bfe420b4f3e",
   "metadata": {},
   "outputs": [],
   "source": []
  },
  {
   "cell_type": "code",
   "execution_count": 127,
   "id": "c25d4eae-12db-4acb-b9db-e49bb8648da5",
   "metadata": {},
   "outputs": [],
   "source": [
    "cursor.execute('create table testyash.student_M(roll_no INT(10), Science int(20), Maths INT(10), English INT(10))')"
   ]
  },
  {
   "cell_type": "code",
   "execution_count": 129,
   "id": "6080f11f-16e6-4f1a-a874-de940eb2875e",
   "metadata": {},
   "outputs": [],
   "source": [
    "cursor.execute('insert into testyash.student_M values(1,30,55,50)')\n",
    "cursor.execute('insert into testyash.student_M values(2,65,45,45)')\n",
    "cursor.execute('insert into testyash.student_M values(3,48,65,63)')\n",
    "cursor.execute('insert into testyash.student_M values(4,56,52,75)')\n",
    "cursor.execute('insert into testyash.student_M values(5,74,45,85)')\n",
    "cursor.execute('insert into testyash.student_M values(6,25,35,95)')\n",
    "cursor.execute('insert into testyash.student_M values(7,33,78,64)')\n",
    "cursor.execute('insert into testyash.student_M values(8,88,66,65)')\n",
    "cursor.execute('insert into testyash.student_M values(9,44,95,52)')\n",
    "cursor.execute('insert into testyash.student_M values(10,64,47,45)')\n"
   ]
  },
  {
   "cell_type": "code",
   "execution_count": 131,
   "id": "9708560b-a561-40bd-a874-a0239667b71c",
   "metadata": {},
   "outputs": [],
   "source": [
    "mydb.commit()"
   ]
  },
  {
   "cell_type": "code",
   "execution_count": 132,
   "id": "f8c69400-d8ba-4ebc-afe3-efb14d21a118",
   "metadata": {},
   "outputs": [],
   "source": [
    "cursor.execute(\"select * from testyash.student_M\")"
   ]
  },
  {
   "cell_type": "code",
   "execution_count": 133,
   "id": "7e46e8fc-bca9-4130-9058-897af4bf7408",
   "metadata": {},
   "outputs": [
    {
     "data": {
      "text/plain": [
       "[(1, 30, 55, 50),\n",
       " (2, 65, 45, 45),\n",
       " (3, 48, 65, 63),\n",
       " (4, 56, 52, 75),\n",
       " (5, 74, 45, 85),\n",
       " (6, 25, 35, 95),\n",
       " (7, 33, 78, 64),\n",
       " (8, 88, 66, 65),\n",
       " (9, 44, 95, 52),\n",
       " (10, 64, 47, 45)]"
      ]
     },
     "execution_count": 133,
     "metadata": {},
     "output_type": "execute_result"
    }
   ],
   "source": [
    "cursor.fetchall()"
   ]
  },
  {
   "cell_type": "code",
   "execution_count": 144,
   "id": "0fee0598-7230-44be-a8df-8ce92f94e5ab",
   "metadata": {},
   "outputs": [],
   "source": [
    "cursor.execute('create table testyash.student_info(roll_no INT(10), stu_name varchar(20), city varchar(20))')"
   ]
  },
  {
   "cell_type": "code",
   "execution_count": 145,
   "id": "32667ec5-8e52-4a36-ba0c-fd875af4f94b",
   "metadata": {},
   "outputs": [],
   "source": [
    "cursor.execute('INSERT INTO testyash.student_info VALUES (1, \"raj\", \"delhi\")')\n",
    "cursor.execute('INSERT INTO testyash.student_info VALUES (2, \"rahul\", \"delhi\")')\n",
    "cursor.execute('INSERT INTO testyash.student_info VALUES (3, \"jay\", \"kolkata\")')\n",
    "cursor.execute('INSERT INTO testyash.student_info VALUES (4, \"sonam\", \"indore\")')\n",
    "cursor.execute('INSERT INTO testyash.student_info VALUES (5, \"kunal\", \"hydrabad\")')\n",
    "cursor.execute('INSERT INTO testyash.student_info VALUES (6, \"ram\", \"delhi\")')\n",
    "cursor.execute('INSERT INTO testyash.student_info VALUES (7, \"rani\", \"patna\")')\n",
    "cursor.execute('INSERT INTO testyash.student_info VALUES (8, \"veeru\", \"ujjain\")')\n",
    "cursor.execute('INSERT INTO testyash.student_info VALUES (9, \"jivan\", \"reewa\")')\n",
    "cursor.execute('INSERT INTO testyash.student_info VALUES (10, \"abhi\", \"goa\")')\n"
   ]
  },
  {
   "cell_type": "code",
   "execution_count": 146,
   "id": "5b2986f3-a622-4910-ae84-e09fe80374bd",
   "metadata": {},
   "outputs": [],
   "source": [
    "mydb.commit()"
   ]
  },
  {
   "cell_type": "code",
   "execution_count": 147,
   "id": "82f77b20-8b92-44c8-9d63-3497d20cac42",
   "metadata": {},
   "outputs": [],
   "source": [
    "cursor.execute(\"select * from testyash.student_info\")"
   ]
  },
  {
   "cell_type": "code",
   "execution_count": 148,
   "id": "ea5aaa22-1643-4357-b4fc-be560ba38c44",
   "metadata": {},
   "outputs": [
    {
     "data": {
      "text/plain": [
       "[(1, 'raj', 'delhi'),\n",
       " (2, 'rahul', 'delhi'),\n",
       " (3, 'jay', 'kolkata'),\n",
       " (4, 'sonam', 'indore'),\n",
       " (5, 'kunal', 'hydrabad'),\n",
       " (6, 'ram', 'delhi'),\n",
       " (7, 'rani', 'patna'),\n",
       " (8, 'veeru', 'ujjain'),\n",
       " (9, 'jivan', 'reewa'),\n",
       " (10, 'abhi', 'goa')]"
      ]
     },
     "execution_count": 148,
     "metadata": {},
     "output_type": "execute_result"
    }
   ],
   "source": [
    "cursor.fetchall()"
   ]
  },
  {
   "cell_type": "code",
   "execution_count": null,
   "id": "f2e05e53-4ebb-4ad5-a440-5e873acae528",
   "metadata": {},
   "outputs": [],
   "source": []
  },
  {
   "cell_type": "markdown",
   "id": "8ac7995f-b507-4275-aa12-43e9fc6b2961",
   "metadata": {},
   "source": [
    " ### select student who live in delhi"
   ]
  },
  {
   "cell_type": "code",
   "execution_count": null,
   "id": "288ef476-4519-418c-b1af-009d44bc8cbd",
   "metadata": {},
   "outputs": [],
   "source": [
    "select * from student_M where roll_no =\n",
    "(select roll_no from student_info where city = 'delhi');\n"
   ]
  },
  {
   "cell_type": "code",
   "execution_count": 158,
   "id": "1a36d67d-a4e8-40ff-bd22-2b49aaec1223",
   "metadata": {},
   "outputs": [],
   "source": [
    "cursor.execute(\"SELECT * FROM student_M WHERE roll_no IN (SELECT roll_no FROM student_info WHERE city = 'delhi')\")\n"
   ]
  },
  {
   "cell_type": "code",
   "execution_count": 159,
   "id": "8a16321c-332f-40ae-9a5f-bdb8f6ae42ed",
   "metadata": {},
   "outputs": [
    {
     "data": {
      "text/plain": [
       "[(1, 30, 55, 50), (2, 65, 45, 45), (6, 25, 35, 95)]"
      ]
     },
     "execution_count": 159,
     "metadata": {},
     "output_type": "execute_result"
    }
   ],
   "source": [
    "cursor.fetchall()"
   ]
  },
  {
   "cell_type": "markdown",
   "id": "0af5bd1a-7b10-4c2d-bfc0-ecec04bcc70f",
   "metadata": {},
   "source": [
    "### 2nd Highest salary using corelated sub query"
   ]
  },
  {
   "cell_type": "code",
   "execution_count": 41,
   "id": "42b51a5d-f74f-4369-be19-2ad87e0a68d2",
   "metadata": {},
   "outputs": [],
   "source": [
    "cursor.execute(\"SELECT DISTINCT salary From EmployeeSalary Emp1 WHERE 2=(SELECT Count(DISTINCT Salary) from EmployeeSalary Emp2 WHERE Emp1.Salary >= Emp2.Salary)\")"
   ]
  },
  {
   "cell_type": "code",
   "execution_count": 42,
   "id": "422d2128-8d5f-4c44-a6c4-1388b5779c70",
   "metadata": {},
   "outputs": [
    {
     "data": {
      "text/plain": [
       "[(10000,)]"
      ]
     },
     "execution_count": 42,
     "metadata": {},
     "output_type": "execute_result"
    }
   ],
   "source": [
    "cursor.fetchall()"
   ]
  },
  {
   "cell_type": "markdown",
   "id": "f20a7232-61b2-4627-b32b-40e4a358464a",
   "metadata": {},
   "source": [
    "### Nth highest salary "
   ]
  },
  {
   "cell_type": "code",
   "execution_count": 82,
   "id": "93f1700e-fb35-415e-b821-3ee17255b1c4",
   "metadata": {},
   "outputs": [],
   "source": [
    "cursor.execute(\"SELECT DISTINCT salary FROM EmployeeSalary Emp1 WHERE (1)= (SELECT COUNT(DISTINCT salary)FROM EmployeeSalary Emp2 WHERE Emp1.salary <= Emp2.salary)\")\n"
   ]
  },
  {
   "cell_type": "code",
   "execution_count": 83,
   "id": "214afcfa-ff99-4212-bdc3-d83cce52af9f",
   "metadata": {},
   "outputs": [
    {
     "data": {
      "text/plain": [
       "[(12000,)]"
      ]
     },
     "execution_count": 83,
     "metadata": {},
     "output_type": "execute_result"
    }
   ],
   "source": [
    "cursor.fetchall()"
   ]
  },
  {
   "cell_type": "markdown",
   "id": "c2a7fb7c-8f8e-4d13-85f3-e4ec41021463",
   "metadata": {},
   "source": [
    "### 3th Highest salary using corelated sub query\n"
   ]
  },
  {
   "cell_type": "code",
   "execution_count": 101,
   "id": "a5e3e79f-d978-4f47-9da4-73b6eb437a5f",
   "metadata": {},
   "outputs": [],
   "source": [
    "cursor.execute(\"SELECT DISTINCT salary From EmployeeSalary Emp1 WHERE 3=(SELECT Count(DISTINCT Salary) from EmployeeSalary Emp2 WHERE Emp1.Salary >= Emp2.Salary)\")"
   ]
  },
  {
   "cell_type": "code",
   "execution_count": 102,
   "id": "d1f0e69c-b849-43de-9b30-608490fc6b5a",
   "metadata": {},
   "outputs": [
    {
     "data": {
      "text/plain": [
       "[(12000,)]"
      ]
     },
     "execution_count": 102,
     "metadata": {},
     "output_type": "execute_result"
    }
   ],
   "source": [
    "cursor.fetchall()"
   ]
  },
  {
   "cell_type": "markdown",
   "id": "33fc953c-2b52-42a4-91ee-143857f1aa80",
   "metadata": {},
   "source": [
    "### 2nd highest salary using Sub-query\n"
   ]
  },
  {
   "cell_type": "code",
   "execution_count": 103,
   "id": "13f06960-0818-490e-94b4-ba0a47ce3d8e",
   "metadata": {},
   "outputs": [],
   "source": [
    "cursor.execute(\"select max(salary) from EmployeeSalary where salary <(select max(salary) from EmployeeSalary)\")"
   ]
  },
  {
   "cell_type": "code",
   "execution_count": 104,
   "id": "9b3bc645-54cb-4b0d-a572-a3d0e111ecff",
   "metadata": {},
   "outputs": [
    {
     "data": {
      "text/plain": [
       "[(10000,)]"
      ]
     },
     "execution_count": 104,
     "metadata": {},
     "output_type": "execute_result"
    }
   ],
   "source": [
    "cursor.fetchall()"
   ]
  },
  {
   "cell_type": "markdown",
   "id": "b3654371-9c0e-4d85-a9a7-4aab55d74ce8",
   "metadata": {},
   "source": [
    "### 3rd highest salary\n"
   ]
  },
  {
   "cell_type": "code",
   "execution_count": 105,
   "id": "a57bc134-765a-40b2-ba3b-63d9faa5c39d",
   "metadata": {},
   "outputs": [],
   "source": [
    "cursor.execute(\"Select max(salary) from EmployeeSalary WHERE Salary <(Select max(salary) from EmployeeSalary WHERE Salary <(Select max(salary) from EmployeeSalary))\")"
   ]
  },
  {
   "cell_type": "code",
   "execution_count": 106,
   "id": "984ebd15-4a15-4da3-b1d3-9c41e3dbffb3",
   "metadata": {},
   "outputs": [
    {
     "data": {
      "text/plain": [
       "[(8000,)]"
      ]
     },
     "execution_count": 106,
     "metadata": {},
     "output_type": "execute_result"
    }
   ],
   "source": [
    "cursor.fetchall()"
   ]
  },
  {
   "cell_type": "markdown",
   "id": "494efb45-73d5-4b51-bc92-a16b08ef3cfd",
   "metadata": {},
   "source": [
    "### Write a query to get the monthly sales amount for the last 12 months.\n",
    "\n"
   ]
  },
  {
   "cell_type": "code",
   "execution_count": 14,
   "id": "22681517-d811-4b93-b8a2-8f39c497e815",
   "metadata": {},
   "outputs": [],
   "source": [
    "cursor.execute(\"SELECT DATE_FORMAT(date, '%Y-%m') AS month,SUM(amount) AS monthly_sales FROM EmployeeSalary WHERE date >= DATE_SUB(CURRENT_DATE, INTERVAL 12 MONTH) GROUP BY DATE_FORMAT(date, '%Y-%m') ORDER BY month\")"
   ]
  },
  {
   "cell_type": "code",
   "execution_count": 15,
   "id": "fbd23fe6-4115-4a9d-98c7-9463d894cbfe",
   "metadata": {},
   "outputs": [
    {
     "ename": "SyntaxError",
     "evalue": "unterminated string literal (detected at line 5) (401804691.py, line 5)",
     "output_type": "error",
     "traceback": [
      "\u001b[1;36m  Cell \u001b[1;32mIn[15], line 5\u001b[1;36m\u001b[0m\n\u001b[1;33m    ORDER BY YEAR(sale_date) DESC, MONTH(sale_date) DESC\")\u001b[0m\n\u001b[1;37m                                                        ^\u001b[0m\n\u001b[1;31mSyntaxError\u001b[0m\u001b[1;31m:\u001b[0m unterminated string literal (detected at line 5)\n"
     ]
    }
   ],
   "source": [
    "#cursor.execute(\"SELECT MONTH(sale_date) AS month, YEAR(sale_date) AS year, SUM(amount) AS monthly_sales\n",
    "FROM sales \n",
    "WHERE sale_date BETWEEN DATE_SUB(NOW(), INTERVAL 12 MONTH) AND NOW() \n",
    "GROUP BY YEAR(sale_date), MONTH(sale_date) \n",
    "ORDER BY YEAR(sale_date) DESC, MONTH(sale_date) DESC\")"
   ]
  },
  {
   "cell_type": "markdown",
   "id": "54bd12e1-e94e-40d7-a2ce-23056c14032b",
   "metadata": {},
   "source": [
    "### Find the employees who earn more than the average salary in their respective departments."
   ]
  },
  {
   "cell_type": "code",
   "execution_count": 25,
   "id": "cc33c139-3adb-4184-b900-1d9f9195e73c",
   "metadata": {},
   "outputs": [
    {
     "ename": "SyntaxError",
     "evalue": "unterminated string literal (detected at line 1) (839132043.py, line 1)",
     "output_type": "error",
     "traceback": [
      "\u001b[1;36m  Cell \u001b[1;32mIn[25], line 1\u001b[1;36m\u001b[0m\n\u001b[1;33m    cursor.execute(\"SELECT e1.id, e1.name, e1.salary, e1.department_id\u001b[0m\n\u001b[1;37m                   ^\u001b[0m\n\u001b[1;31mSyntaxError\u001b[0m\u001b[1;31m:\u001b[0m unterminated string literal (detected at line 1)\n"
     ]
    }
   ],
   "source": [
    "cursor.execute(\"SELECT e1.id, e1.name, e1.salary, e1.department_id \n",
    "FROM employees e1 \n",
    "JOIN (SELECT department_id, AVG(salary) AS avg_salary \n",
    "      FROM employees \n",
    "      GROUP BY department_id) e2 \n",
    "ON e1.department_id = e2.department_id \n",
    "WHERE e1.salary > e2.avg_salary\")"
   ]
  },
  {
   "cell_type": "markdown",
   "id": "645690bd-6bfd-4f4f-b400-1729155dc68d",
   "metadata": {},
   "source": [
    "### Retrieve all pairs of students who have the same scores"
   ]
  },
  {
   "cell_type": "code",
   "execution_count": 26,
   "id": "85eaed83-2e5e-44e6-a61b-488f8da535bd",
   "metadata": {},
   "outputs": [
    {
     "ename": "SyntaxError",
     "evalue": "unterminated string literal (detected at line 1) (1438370644.py, line 1)",
     "output_type": "error",
     "traceback": [
      "\u001b[1;36m  Cell \u001b[1;32mIn[26], line 1\u001b[1;36m\u001b[0m\n\u001b[1;33m    cursor.execute(\"SELECT s1.student_name AS student1, s2.student_name AS student2, s1.score\u001b[0m\n\u001b[1;37m                   ^\u001b[0m\n\u001b[1;31mSyntaxError\u001b[0m\u001b[1;31m:\u001b[0m unterminated string literal (detected at line 1)\n"
     ]
    }
   ],
   "source": [
    "cursor.execute(\"SELECT s1.student_name AS student1, s2.student_name AS student2, s1.score\n",
    "FROM students s1\n",
    "JOIN students s2 ON s1.score = s2.score\n",
    "WHERE s1.student_id < s2.student_id\")"
   ]
  },
  {
   "cell_type": "markdown",
   "id": "71e8c874-b1dc-4064-8703-066c7b42458d",
   "metadata": {},
   "source": [
    "### Write a query to retrieve the last 7 days' records, excluding weekends."
   ]
  },
  {
   "cell_type": "code",
   "execution_count": 27,
   "id": "c1c8ccd3-e4be-431d-abff-759b467fc6ec",
   "metadata": {},
   "outputs": [
    {
     "ename": "SyntaxError",
     "evalue": "unterminated string literal (detected at line 1) (4230531693.py, line 1)",
     "output_type": "error",
     "traceback": [
      "\u001b[1;36m  Cell \u001b[1;32mIn[27], line 1\u001b[1;36m\u001b[0m\n\u001b[1;33m    cursor.execute(\"SELECT *\u001b[0m\n\u001b[1;37m                   ^\u001b[0m\n\u001b[1;31mSyntaxError\u001b[0m\u001b[1;31m:\u001b[0m unterminated string literal (detected at line 1)\n"
     ]
    }
   ],
   "source": [
    "cursor.execute(\"SELECT * \n",
    "FROM Empdetails \n",
    "WHERE date_column BETWEEN DATE_SUB(CURDATE(), INTERVAL 7 DAY) AND CURDATE() \n",
    "AND DAYOFWEEK(date_column) NOT IN (1,7)\")"
   ]
  },
  {
   "cell_type": "markdown",
   "id": "6cc35f89-cabc-4d50-9c50-dec62348d8df",
   "metadata": {},
   "source": [
    "### Find the employees who have the same job roles in different departments.\n",
    "\n"
   ]
  },
  {
   "cell_type": "code",
   "execution_count": 28,
   "id": "6078c8c8-846c-4576-91e3-976f9c21bfdb",
   "metadata": {},
   "outputs": [
    {
     "ename": "SyntaxError",
     "evalue": "unterminated string literal (detected at line 1) (4071081143.py, line 1)",
     "output_type": "error",
     "traceback": [
      "\u001b[1;36m  Cell \u001b[1;32mIn[28], line 1\u001b[1;36m\u001b[0m\n\u001b[1;33m    cursor.execute(\"SELECT e1.employee_id, e1.employee_name, e1.job_role, e1.department_id, e2.department_id AS other_department_id\u001b[0m\n\u001b[1;37m                   ^\u001b[0m\n\u001b[1;31mSyntaxError\u001b[0m\u001b[1;31m:\u001b[0m unterminated string literal (detected at line 1)\n"
     ]
    }
   ],
   "source": [
    "cursor.execute(\"SELECT e1.employee_id, e1.employee_name, e1.job_role, e1.department_id, e2.department_id AS other_department_id\n",
    "FROM employees e1\n",
    "JOIN employees e2 ON e1.job_role = e2.job_role\n",
    "WHERE e1.department_id <> e2.department_id)\")\n"
   ]
  },
  {
   "cell_type": "markdown",
   "id": "e8c1b7e2-48bd-42d3-b232-aedf22564a5f",
   "metadata": {},
   "source": [
    "### Retrieve the total sales amount, but replace null values with zeros\n",
    "\n"
   ]
  },
  {
   "cell_type": "code",
   "execution_count": 34,
   "id": "137109dd-4284-40cb-aab3-5971e2131d34",
   "metadata": {},
   "outputs": [],
   "source": [
    "cursor.execute(\"SELECT IFNULL(SUM(sales_amount), 0) AS total_sales FROM EmployeeSalary\")\n"
   ]
  },
  {
   "cell_type": "code",
   "execution_count": 38,
   "id": "80d34c81-22d1-4324-bdf7-c1397638c2be",
   "metadata": {},
   "outputs": [
    {
     "data": {
      "text/plain": [
       "[(Decimal('30000'),)]"
      ]
     },
     "execution_count": 38,
     "metadata": {},
     "output_type": "execute_result"
    }
   ],
   "source": [
    "cursor.fetchall()"
   ]
  },
  {
   "cell_type": "markdown",
   "id": "9220163b-2f9f-451a-ba50-8542fde05ae5",
   "metadata": {},
   "source": [
    "### How would you retrieve the name and salary of the top 3 earning employees?\n",
    "\n"
   ]
  },
  {
   "cell_type": "code",
   "execution_count": 39,
   "id": "9d5fb7e5-8763-46e6-9851-47b188cb8842",
   "metadata": {},
   "outputs": [
    {
     "ename": "SyntaxError",
     "evalue": "unterminated string literal (detected at line 1) (3648275317.py, line 1)",
     "output_type": "error",
     "traceback": [
      "\u001b[1;36m  Cell \u001b[1;32mIn[39], line 1\u001b[1;36m\u001b[0m\n\u001b[1;33m    cursor.execute(\"SELECT employee_name, salary\u001b[0m\n\u001b[1;37m                   ^\u001b[0m\n\u001b[1;31mSyntaxError\u001b[0m\u001b[1;31m:\u001b[0m unterminated string literal (detected at line 1)\n"
     ]
    }
   ],
   "source": [
    "cursor.execute(\"SELECT employee_name, salary\n",
    "FROM employees\n",
    "ORDER BY salary DESC\n",
    "LIMIT 3\")\n"
   ]
  },
  {
   "cell_type": "code",
   "execution_count": 40,
   "id": "98d946c6-0eba-430a-97b6-df51cb1d314e",
   "metadata": {},
   "outputs": [
    {
     "ename": "SyntaxError",
     "evalue": "unterminated string literal (detected at line 1) (630202736.py, line 1)",
     "output_type": "error",
     "traceback": [
      "\u001b[1;36m  Cell \u001b[1;32mIn[40], line 1\u001b[1;36m\u001b[0m\n\u001b[1;33m    cursor.execute(\"SELECT name, salary, dense_rank() OVER (ORDER BY salary DESC) AS top_rank\u001b[0m\n\u001b[1;37m                   ^\u001b[0m\n\u001b[1;31mSyntaxError\u001b[0m\u001b[1;31m:\u001b[0m unterminated string literal (detected at line 1)\n"
     ]
    }
   ],
   "source": [
    "cursor.execute(\"SELECT name, salary, dense_rank() OVER (ORDER BY salary DESC) AS top_rank\n",
    "FROM emply\n",
    "WHERE dense_rank() <= 3\n",
    "ORDER BY salary DESC\")\n"
   ]
  },
  {
   "cell_type": "markdown",
   "id": "d3ba449e-1673-4d5b-8956-694c92574719",
   "metadata": {},
   "source": [
    "### Find employees who earn above the average salary of their department and their department's average salary is above the company's average"
   ]
  },
  {
   "cell_type": "code",
   "execution_count": 41,
   "id": "d964e271-62a2-45d6-a998-c9ef87686fd5",
   "metadata": {},
   "outputs": [
    {
     "ename": "SyntaxError",
     "evalue": "unterminated string literal (detected at line 1) (3215364937.py, line 1)",
     "output_type": "error",
     "traceback": [
      "\u001b[1;36m  Cell \u001b[1;32mIn[41], line 1\u001b[1;36m\u001b[0m\n\u001b[1;33m    cursor.execute(\"Select e1.name, e1.salary from employee e1\u001b[0m\n\u001b[1;37m                   ^\u001b[0m\n\u001b[1;31mSyntaxError\u001b[0m\u001b[1;31m:\u001b[0m unterminated string literal (detected at line 1)\n"
     ]
    }
   ],
   "source": [
    "cursor.execute(\"Select e1.name, e1.salary from employee e1 \n",
    "               Where e1.salary > (\"Select avg(salary) from employee \n",
    "               Where  department-id = e1.department-id\n",
    "               )\n",
    "               AND(\n",
    "               Select Avg(salary) from employee\n",
    "               where department-id = e1.department-id\n",
    "               )>(\n",
    "               Select Avg(salary) from employee\")"
   ]
  },
  {
   "cell_type": "markdown",
   "id": "a1dfda72-6569-4d3a-bd14-2a76ebf8c733",
   "metadata": {},
   "source": [
    "### Find the second highest departmental average salary."
   ]
  },
  {
   "cell_type": "code",
   "execution_count": 42,
   "id": "fd9c85f4-5293-4137-87d9-25963a4304c5",
   "metadata": {},
   "outputs": [
    {
     "ename": "SyntaxError",
     "evalue": "unterminated string literal (detected at line 1) (589493334.py, line 1)",
     "output_type": "error",
     "traceback": [
      "\u001b[1;36m  Cell \u001b[1;32mIn[42], line 1\u001b[1;36m\u001b[0m\n\u001b[1;33m    cursor.execute(\"SELECT e1.department_id, COUNT(e1.employee_id) AS department_employee_count\u001b[0m\n\u001b[1;37m                   ^\u001b[0m\n\u001b[1;31mSyntaxError\u001b[0m\u001b[1;31m:\u001b[0m unterminated string literal (detected at line 1)\n"
     ]
    }
   ],
   "source": [
    "cursor.execute(\"SELECT e1.department_id, COUNT(e1.employee_id) AS department_employee_count\n",
    "FROM employees e1\n",
    "LEFT JOIN employees e2 ON e1.department_id = e2.department_id AND e1.employee_id <> e2.employee_id\n",
    "GROUP BY e1.department_id\n",
    "HAVING COUNT(e1.employee_id) > AVG(COUNT(e2.employee_id)\")\n"
   ]
  },
  {
   "cell_type": "markdown",
   "id": "8f1c9af1-233e-48fb-b0f7-aed953e90ec2",
   "metadata": {},
   "source": [
    "### Retrieve the highest earning employee from each department"
   ]
  },
  {
   "cell_type": "code",
   "execution_count": 44,
   "id": "71295726-5ab8-437e-9e88-75b5817bf37f",
   "metadata": {},
   "outputs": [
    {
     "ename": "SyntaxError",
     "evalue": "unterminated string literal (detected at line 1) (597133362.py, line 1)",
     "output_type": "error",
     "traceback": [
      "\u001b[1;36m  Cell \u001b[1;32mIn[44], line 1\u001b[1;36m\u001b[0m\n\u001b[1;33m    cursor.execute(\"SELECT e1.emp_id, e1.department_id, e1.emp_name, e1.salary from employee e1\u001b[0m\n\u001b[1;37m                   ^\u001b[0m\n\u001b[1;31mSyntaxError\u001b[0m\u001b[1;31m:\u001b[0m unterminated string literal (detected at line 1)\n"
     ]
    }
   ],
   "source": [
    "cursor.execute(\"SELECT e1.emp_id, e1.department_id, e1.emp_name, e1.salary from employee e1\n",
    "               where e1.salary = (Select max(e2.salary) from employee e2)\n",
    "               where e2.department_id = e1.department_id\")"
   ]
  },
  {
   "cell_type": "markdown",
   "id": "dde16ae5-f0a7-471f-8586-a4df1a81da25",
   "metadata": {},
   "source": [
    "### Which departments have the same average salary?"
   ]
  },
  {
   "cell_type": "code",
   "execution_count": 45,
   "id": "284742d9-94ad-4370-a90f-eb12c4fc88b0",
   "metadata": {},
   "outputs": [
    {
     "ename": "SyntaxError",
     "evalue": "unterminated string literal (detected at line 1) (3089591135.py, line 1)",
     "output_type": "error",
     "traceback": [
      "\u001b[1;36m  Cell \u001b[1;32mIn[45], line 1\u001b[1;36m\u001b[0m\n\u001b[1;33m    cursor.execute(\"SELECT e1.department_id, e2.department_id AS other_department_id, AVG(e1.salary) AS avg_salary\u001b[0m\n\u001b[1;37m                   ^\u001b[0m\n\u001b[1;31mSyntaxError\u001b[0m\u001b[1;31m:\u001b[0m unterminated string literal (detected at line 1)\n"
     ]
    }
   ],
   "source": [
    "cursor.execute(\"SELECT e1.department_id, e2.department_id AS other_department_id, AVG(e1.salary) AS avg_salary\n",
    "FROM employees e1\n",
    "JOIN employees e2 ON e1.department_id < e2.department_id\n",
    "GROUP BY e1.department_id, e2.department_id\n",
    "HAVING AVG(e1.salary) = AVG(e2.salary)\")\n"
   ]
  },
  {
   "cell_type": "markdown",
   "id": "28b85781-15da-4032-b31c-9c4eefb18f02",
   "metadata": {},
   "source": [
    "### Determine if any department's average salary is higher than the maximum salary in another department."
   ]
  },
  {
   "cell_type": "code",
   "execution_count": 46,
   "id": "dd904fc1-fcc2-4f6f-b843-1d168c90ff6d",
   "metadata": {},
   "outputs": [
    {
     "ename": "SyntaxError",
     "evalue": "unterminated string literal (detected at line 1) (3129616510.py, line 1)",
     "output_type": "error",
     "traceback": [
      "\u001b[1;36m  Cell \u001b[1;32mIn[46], line 1\u001b[1;36m\u001b[0m\n\u001b[1;33m    cursor.execute(\"SELECT\u001b[0m\n\u001b[1;37m                   ^\u001b[0m\n\u001b[1;31mSyntaxError\u001b[0m\u001b[1;31m:\u001b[0m unterminated string literal (detected at line 1)\n"
     ]
    }
   ],
   "source": [
    "cursor.execute(\"SELECT\n",
    "    d1.department_id AS department1,\n",
    "    d2.department_id AS department2\n",
    "FROM\n",
    "    (SELECT department_id, AVG(salary) AS avg_salary FROM employees GROUP BY department_id) AS d1\n",
    "JOIN\n",
    "    (SELECT department_id, MAX(salary) AS max_salary FROM employees GROUP BY department_id) AS d2\n",
    "ON\n",
    "    d1.department_id <> d2.department_id\n",
    "WHERE\n",
    "    d1.avg_salary > d2.max_salary\")"
   ]
  },
  {
   "cell_type": "code",
   "execution_count": null,
   "id": "276c2f5d-a9ec-4a16-b7ce-5b15038a86a3",
   "metadata": {},
   "outputs": [],
   "source": []
  }
 ],
 "metadata": {
  "kernelspec": {
   "display_name": "Python 3 (ipykernel)",
   "language": "python",
   "name": "python3"
  },
  "language_info": {
   "codemirror_mode": {
    "name": "ipython",
    "version": 3
   },
   "file_extension": ".py",
   "mimetype": "text/x-python",
   "name": "python",
   "nbconvert_exporter": "python",
   "pygments_lexer": "ipython3",
   "version": "3.11.4"
  }
 },
 "nbformat": 4,
 "nbformat_minor": 5
}
